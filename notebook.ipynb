{
 "cells": [
  {
   "cell_type": "markdown",
   "metadata": {},
   "source": [
    "# Projet : Ensembles classifiers in Class Imbalance Learning\n",
    "    \n",
    "## Nemanja Kostadinovic et Rebecca Leygonie"
   ]
  },
  {
   "cell_type": "code",
   "execution_count": 1,
   "metadata": {},
   "outputs": [],
   "source": [
    "import warnings\n",
    "warnings.simplefilter(action='ignore', category=FutureWarning)\n",
    "\n",
    "import pandas as pd\n",
    "import numpy as np\n",
    "import matplotlib.pyplot as plt\n",
    "import pylab\n",
    "\n",
    "from subprocess import call\n",
    "from IPython.display import Image\n",
    "\n",
    "import seaborn as sns\n",
    "from imblearn.under_sampling import RandomUnderSampler\n",
    "from imblearn.over_sampling import RandomOverSampler\n",
    "\n",
    "from sklearn.ensemble import BaggingClassifier\n",
    "from sklearn.ensemble import RandomForestClassifier\n",
    "from sklearn.ensemble import ExtraTreesClassifier\n",
    "\n",
    "\n",
    "from sklearn.naive_bayes import GaussianNB\n",
    "from sklearn.svm import OneClassSVM\n",
    "from sklearn.linear_model import LogisticRegression\n",
    "\n",
    "from sklearn.ensemble import GradientBoostingClassifier\n",
    "from sklearn.ensemble import AdaBoostClassifier\n",
    "from sklearn.ensemble import BaggingClassifier\n",
    "\n",
    "from sklearn.model_selection import train_test_split, cross_val_score\n",
    "from sklearn.model_selection import RandomizedSearchCV, GridSearchCV\n",
    "from sklearn.metrics import accuracy_score, confusion_matrix, mean_squared_error, recall_score, classification_report, f1_score, make_scorer, precision_score\n"
   ]
  },
  {
   "cell_type": "markdown",
   "metadata": {},
   "source": [
    "# 1 - Import et analyse exploratoire des données "
   ]
  },
  {
   "cell_type": "code",
   "execution_count": 2,
   "metadata": {},
   "outputs": [],
   "source": [
    "data = pd.read_csv(\"CarteBancaire.csv\")\n",
    "pd.set_option('display.max_columns', 35)"
   ]
  },
  {
   "cell_type": "code",
   "execution_count": 3,
   "metadata": {},
   "outputs": [
    {
     "data": {
      "text/plain": [
       "(284807, 31)"
      ]
     },
     "execution_count": 3,
     "metadata": {},
     "output_type": "execute_result"
    }
   ],
   "source": [
    "data.shape"
   ]
  },
  {
   "cell_type": "code",
   "execution_count": 4,
   "metadata": {},
   "outputs": [
    {
     "data": {
      "text/html": [
       "<div>\n",
       "<style scoped>\n",
       "    .dataframe tbody tr th:only-of-type {\n",
       "        vertical-align: middle;\n",
       "    }\n",
       "\n",
       "    .dataframe tbody tr th {\n",
       "        vertical-align: top;\n",
       "    }\n",
       "\n",
       "    .dataframe thead th {\n",
       "        text-align: right;\n",
       "    }\n",
       "</style>\n",
       "<table border=\"1\" class=\"dataframe\">\n",
       "  <thead>\n",
       "    <tr style=\"text-align: right;\">\n",
       "      <th></th>\n",
       "      <th>Time</th>\n",
       "      <th>V1</th>\n",
       "      <th>V2</th>\n",
       "      <th>V3</th>\n",
       "      <th>V4</th>\n",
       "      <th>V5</th>\n",
       "      <th>V6</th>\n",
       "      <th>V7</th>\n",
       "      <th>V8</th>\n",
       "      <th>V9</th>\n",
       "      <th>V10</th>\n",
       "      <th>V11</th>\n",
       "      <th>V12</th>\n",
       "      <th>V13</th>\n",
       "      <th>V14</th>\n",
       "      <th>V15</th>\n",
       "      <th>V16</th>\n",
       "      <th>V17</th>\n",
       "      <th>V18</th>\n",
       "      <th>V19</th>\n",
       "      <th>V20</th>\n",
       "      <th>V21</th>\n",
       "      <th>V22</th>\n",
       "      <th>V23</th>\n",
       "      <th>V24</th>\n",
       "      <th>V25</th>\n",
       "      <th>V26</th>\n",
       "      <th>V27</th>\n",
       "      <th>V28</th>\n",
       "      <th>Amount</th>\n",
       "      <th>Class</th>\n",
       "    </tr>\n",
       "  </thead>\n",
       "  <tbody>\n",
       "    <tr>\n",
       "      <th>0</th>\n",
       "      <td>0.0</td>\n",
       "      <td>-1.359807</td>\n",
       "      <td>-0.072781</td>\n",
       "      <td>2.536347</td>\n",
       "      <td>1.378155</td>\n",
       "      <td>-0.338321</td>\n",
       "      <td>0.462388</td>\n",
       "      <td>0.239599</td>\n",
       "      <td>0.098698</td>\n",
       "      <td>0.363787</td>\n",
       "      <td>0.090794</td>\n",
       "      <td>-0.551600</td>\n",
       "      <td>-0.617801</td>\n",
       "      <td>-0.991390</td>\n",
       "      <td>-0.311169</td>\n",
       "      <td>1.468177</td>\n",
       "      <td>-0.470401</td>\n",
       "      <td>0.207971</td>\n",
       "      <td>0.025791</td>\n",
       "      <td>0.403993</td>\n",
       "      <td>0.251412</td>\n",
       "      <td>-0.018307</td>\n",
       "      <td>0.277838</td>\n",
       "      <td>-0.110474</td>\n",
       "      <td>0.066928</td>\n",
       "      <td>0.128539</td>\n",
       "      <td>-0.189115</td>\n",
       "      <td>0.133558</td>\n",
       "      <td>-0.021053</td>\n",
       "      <td>149.62</td>\n",
       "      <td>0</td>\n",
       "    </tr>\n",
       "    <tr>\n",
       "      <th>1</th>\n",
       "      <td>0.0</td>\n",
       "      <td>1.191857</td>\n",
       "      <td>0.266151</td>\n",
       "      <td>0.166480</td>\n",
       "      <td>0.448154</td>\n",
       "      <td>0.060018</td>\n",
       "      <td>-0.082361</td>\n",
       "      <td>-0.078803</td>\n",
       "      <td>0.085102</td>\n",
       "      <td>-0.255425</td>\n",
       "      <td>-0.166974</td>\n",
       "      <td>1.612727</td>\n",
       "      <td>1.065235</td>\n",
       "      <td>0.489095</td>\n",
       "      <td>-0.143772</td>\n",
       "      <td>0.635558</td>\n",
       "      <td>0.463917</td>\n",
       "      <td>-0.114805</td>\n",
       "      <td>-0.183361</td>\n",
       "      <td>-0.145783</td>\n",
       "      <td>-0.069083</td>\n",
       "      <td>-0.225775</td>\n",
       "      <td>-0.638672</td>\n",
       "      <td>0.101288</td>\n",
       "      <td>-0.339846</td>\n",
       "      <td>0.167170</td>\n",
       "      <td>0.125895</td>\n",
       "      <td>-0.008983</td>\n",
       "      <td>0.014724</td>\n",
       "      <td>2.69</td>\n",
       "      <td>0</td>\n",
       "    </tr>\n",
       "    <tr>\n",
       "      <th>2</th>\n",
       "      <td>1.0</td>\n",
       "      <td>-1.358354</td>\n",
       "      <td>-1.340163</td>\n",
       "      <td>1.773209</td>\n",
       "      <td>0.379780</td>\n",
       "      <td>-0.503198</td>\n",
       "      <td>1.800499</td>\n",
       "      <td>0.791461</td>\n",
       "      <td>0.247676</td>\n",
       "      <td>-1.514654</td>\n",
       "      <td>0.207643</td>\n",
       "      <td>0.624501</td>\n",
       "      <td>0.066084</td>\n",
       "      <td>0.717293</td>\n",
       "      <td>-0.165946</td>\n",
       "      <td>2.345865</td>\n",
       "      <td>-2.890083</td>\n",
       "      <td>1.109969</td>\n",
       "      <td>-0.121359</td>\n",
       "      <td>-2.261857</td>\n",
       "      <td>0.524980</td>\n",
       "      <td>0.247998</td>\n",
       "      <td>0.771679</td>\n",
       "      <td>0.909412</td>\n",
       "      <td>-0.689281</td>\n",
       "      <td>-0.327642</td>\n",
       "      <td>-0.139097</td>\n",
       "      <td>-0.055353</td>\n",
       "      <td>-0.059752</td>\n",
       "      <td>378.66</td>\n",
       "      <td>0</td>\n",
       "    </tr>\n",
       "    <tr>\n",
       "      <th>3</th>\n",
       "      <td>1.0</td>\n",
       "      <td>-0.966272</td>\n",
       "      <td>-0.185226</td>\n",
       "      <td>1.792993</td>\n",
       "      <td>-0.863291</td>\n",
       "      <td>-0.010309</td>\n",
       "      <td>1.247203</td>\n",
       "      <td>0.237609</td>\n",
       "      <td>0.377436</td>\n",
       "      <td>-1.387024</td>\n",
       "      <td>-0.054952</td>\n",
       "      <td>-0.226487</td>\n",
       "      <td>0.178228</td>\n",
       "      <td>0.507757</td>\n",
       "      <td>-0.287924</td>\n",
       "      <td>-0.631418</td>\n",
       "      <td>-1.059647</td>\n",
       "      <td>-0.684093</td>\n",
       "      <td>1.965775</td>\n",
       "      <td>-1.232622</td>\n",
       "      <td>-0.208038</td>\n",
       "      <td>-0.108300</td>\n",
       "      <td>0.005274</td>\n",
       "      <td>-0.190321</td>\n",
       "      <td>-1.175575</td>\n",
       "      <td>0.647376</td>\n",
       "      <td>-0.221929</td>\n",
       "      <td>0.062723</td>\n",
       "      <td>0.061458</td>\n",
       "      <td>123.50</td>\n",
       "      <td>0</td>\n",
       "    </tr>\n",
       "    <tr>\n",
       "      <th>4</th>\n",
       "      <td>2.0</td>\n",
       "      <td>-1.158233</td>\n",
       "      <td>0.877737</td>\n",
       "      <td>1.548718</td>\n",
       "      <td>0.403034</td>\n",
       "      <td>-0.407193</td>\n",
       "      <td>0.095921</td>\n",
       "      <td>0.592941</td>\n",
       "      <td>-0.270533</td>\n",
       "      <td>0.817739</td>\n",
       "      <td>0.753074</td>\n",
       "      <td>-0.822843</td>\n",
       "      <td>0.538196</td>\n",
       "      <td>1.345852</td>\n",
       "      <td>-1.119670</td>\n",
       "      <td>0.175121</td>\n",
       "      <td>-0.451449</td>\n",
       "      <td>-0.237033</td>\n",
       "      <td>-0.038195</td>\n",
       "      <td>0.803487</td>\n",
       "      <td>0.408542</td>\n",
       "      <td>-0.009431</td>\n",
       "      <td>0.798278</td>\n",
       "      <td>-0.137458</td>\n",
       "      <td>0.141267</td>\n",
       "      <td>-0.206010</td>\n",
       "      <td>0.502292</td>\n",
       "      <td>0.219422</td>\n",
       "      <td>0.215153</td>\n",
       "      <td>69.99</td>\n",
       "      <td>0</td>\n",
       "    </tr>\n",
       "  </tbody>\n",
       "</table>\n",
       "</div>"
      ],
      "text/plain": [
       "   Time        V1        V2        V3        V4        V5        V6        V7  \\\n",
       "0   0.0 -1.359807 -0.072781  2.536347  1.378155 -0.338321  0.462388  0.239599   \n",
       "1   0.0  1.191857  0.266151  0.166480  0.448154  0.060018 -0.082361 -0.078803   \n",
       "2   1.0 -1.358354 -1.340163  1.773209  0.379780 -0.503198  1.800499  0.791461   \n",
       "3   1.0 -0.966272 -0.185226  1.792993 -0.863291 -0.010309  1.247203  0.237609   \n",
       "4   2.0 -1.158233  0.877737  1.548718  0.403034 -0.407193  0.095921  0.592941   \n",
       "\n",
       "         V8        V9       V10       V11       V12       V13       V14  \\\n",
       "0  0.098698  0.363787  0.090794 -0.551600 -0.617801 -0.991390 -0.311169   \n",
       "1  0.085102 -0.255425 -0.166974  1.612727  1.065235  0.489095 -0.143772   \n",
       "2  0.247676 -1.514654  0.207643  0.624501  0.066084  0.717293 -0.165946   \n",
       "3  0.377436 -1.387024 -0.054952 -0.226487  0.178228  0.507757 -0.287924   \n",
       "4 -0.270533  0.817739  0.753074 -0.822843  0.538196  1.345852 -1.119670   \n",
       "\n",
       "        V15       V16       V17       V18       V19       V20       V21  \\\n",
       "0  1.468177 -0.470401  0.207971  0.025791  0.403993  0.251412 -0.018307   \n",
       "1  0.635558  0.463917 -0.114805 -0.183361 -0.145783 -0.069083 -0.225775   \n",
       "2  2.345865 -2.890083  1.109969 -0.121359 -2.261857  0.524980  0.247998   \n",
       "3 -0.631418 -1.059647 -0.684093  1.965775 -1.232622 -0.208038 -0.108300   \n",
       "4  0.175121 -0.451449 -0.237033 -0.038195  0.803487  0.408542 -0.009431   \n",
       "\n",
       "        V22       V23       V24       V25       V26       V27       V28  \\\n",
       "0  0.277838 -0.110474  0.066928  0.128539 -0.189115  0.133558 -0.021053   \n",
       "1 -0.638672  0.101288 -0.339846  0.167170  0.125895 -0.008983  0.014724   \n",
       "2  0.771679  0.909412 -0.689281 -0.327642 -0.139097 -0.055353 -0.059752   \n",
       "3  0.005274 -0.190321 -1.175575  0.647376 -0.221929  0.062723  0.061458   \n",
       "4  0.798278 -0.137458  0.141267 -0.206010  0.502292  0.219422  0.215153   \n",
       "\n",
       "   Amount  Class  \n",
       "0  149.62      0  \n",
       "1    2.69      0  \n",
       "2  378.66      0  \n",
       "3  123.50      0  \n",
       "4   69.99      0  "
      ]
     },
     "execution_count": 4,
     "metadata": {},
     "output_type": "execute_result"
    }
   ],
   "source": [
    "data.head()"
   ]
  },
  {
   "cell_type": "code",
   "execution_count": 5,
   "metadata": {},
   "outputs": [
    {
     "data": {
      "text/html": [
       "<div>\n",
       "<style scoped>\n",
       "    .dataframe tbody tr th:only-of-type {\n",
       "        vertical-align: middle;\n",
       "    }\n",
       "\n",
       "    .dataframe tbody tr th {\n",
       "        vertical-align: top;\n",
       "    }\n",
       "\n",
       "    .dataframe thead th {\n",
       "        text-align: right;\n",
       "    }\n",
       "</style>\n",
       "<table border=\"1\" class=\"dataframe\">\n",
       "  <thead>\n",
       "    <tr style=\"text-align: right;\">\n",
       "      <th></th>\n",
       "      <th>Time</th>\n",
       "      <th>V1</th>\n",
       "      <th>V2</th>\n",
       "      <th>V3</th>\n",
       "      <th>V4</th>\n",
       "      <th>V5</th>\n",
       "      <th>V6</th>\n",
       "      <th>V7</th>\n",
       "      <th>V8</th>\n",
       "      <th>V9</th>\n",
       "      <th>V10</th>\n",
       "      <th>V11</th>\n",
       "      <th>V12</th>\n",
       "      <th>V13</th>\n",
       "      <th>V14</th>\n",
       "      <th>V15</th>\n",
       "      <th>V16</th>\n",
       "      <th>V17</th>\n",
       "      <th>V18</th>\n",
       "      <th>V19</th>\n",
       "      <th>V20</th>\n",
       "      <th>V21</th>\n",
       "      <th>V22</th>\n",
       "      <th>V23</th>\n",
       "      <th>V24</th>\n",
       "      <th>V25</th>\n",
       "      <th>V26</th>\n",
       "      <th>V27</th>\n",
       "      <th>V28</th>\n",
       "      <th>Amount</th>\n",
       "      <th>Class</th>\n",
       "    </tr>\n",
       "  </thead>\n",
       "  <tbody>\n",
       "    <tr>\n",
       "      <th>count</th>\n",
       "      <td>284807.000000</td>\n",
       "      <td>2.848070e+05</td>\n",
       "      <td>2.848070e+05</td>\n",
       "      <td>2.848070e+05</td>\n",
       "      <td>2.848070e+05</td>\n",
       "      <td>2.848070e+05</td>\n",
       "      <td>2.848070e+05</td>\n",
       "      <td>2.848070e+05</td>\n",
       "      <td>2.848070e+05</td>\n",
       "      <td>2.848070e+05</td>\n",
       "      <td>2.848070e+05</td>\n",
       "      <td>2.848070e+05</td>\n",
       "      <td>2.848070e+05</td>\n",
       "      <td>2.848070e+05</td>\n",
       "      <td>2.848070e+05</td>\n",
       "      <td>2.848070e+05</td>\n",
       "      <td>2.848070e+05</td>\n",
       "      <td>2.848070e+05</td>\n",
       "      <td>2.848070e+05</td>\n",
       "      <td>2.848070e+05</td>\n",
       "      <td>2.848070e+05</td>\n",
       "      <td>2.848070e+05</td>\n",
       "      <td>2.848070e+05</td>\n",
       "      <td>2.848070e+05</td>\n",
       "      <td>2.848070e+05</td>\n",
       "      <td>2.848070e+05</td>\n",
       "      <td>2.848070e+05</td>\n",
       "      <td>2.848070e+05</td>\n",
       "      <td>2.848070e+05</td>\n",
       "      <td>284807.000000</td>\n",
       "      <td>284807.000000</td>\n",
       "    </tr>\n",
       "    <tr>\n",
       "      <th>mean</th>\n",
       "      <td>94813.859575</td>\n",
       "      <td>1.165980e-15</td>\n",
       "      <td>3.416908e-16</td>\n",
       "      <td>-1.373150e-15</td>\n",
       "      <td>2.086869e-15</td>\n",
       "      <td>9.604066e-16</td>\n",
       "      <td>1.490107e-15</td>\n",
       "      <td>-5.556467e-16</td>\n",
       "      <td>1.177556e-16</td>\n",
       "      <td>-2.406455e-15</td>\n",
       "      <td>2.239751e-15</td>\n",
       "      <td>1.673327e-15</td>\n",
       "      <td>-1.254995e-15</td>\n",
       "      <td>8.176030e-16</td>\n",
       "      <td>1.206296e-15</td>\n",
       "      <td>4.913003e-15</td>\n",
       "      <td>1.437666e-15</td>\n",
       "      <td>-3.800113e-16</td>\n",
       "      <td>9.572133e-16</td>\n",
       "      <td>1.039817e-15</td>\n",
       "      <td>6.406703e-16</td>\n",
       "      <td>1.656562e-16</td>\n",
       "      <td>-3.444850e-16</td>\n",
       "      <td>2.578648e-16</td>\n",
       "      <td>4.471968e-15</td>\n",
       "      <td>5.340915e-16</td>\n",
       "      <td>1.687098e-15</td>\n",
       "      <td>-3.666453e-16</td>\n",
       "      <td>-1.220404e-16</td>\n",
       "      <td>88.349619</td>\n",
       "      <td>0.001727</td>\n",
       "    </tr>\n",
       "    <tr>\n",
       "      <th>std</th>\n",
       "      <td>47488.145955</td>\n",
       "      <td>1.958696e+00</td>\n",
       "      <td>1.651309e+00</td>\n",
       "      <td>1.516255e+00</td>\n",
       "      <td>1.415869e+00</td>\n",
       "      <td>1.380247e+00</td>\n",
       "      <td>1.332271e+00</td>\n",
       "      <td>1.237094e+00</td>\n",
       "      <td>1.194353e+00</td>\n",
       "      <td>1.098632e+00</td>\n",
       "      <td>1.088850e+00</td>\n",
       "      <td>1.020713e+00</td>\n",
       "      <td>9.992014e-01</td>\n",
       "      <td>9.952742e-01</td>\n",
       "      <td>9.585956e-01</td>\n",
       "      <td>9.153160e-01</td>\n",
       "      <td>8.762529e-01</td>\n",
       "      <td>8.493371e-01</td>\n",
       "      <td>8.381762e-01</td>\n",
       "      <td>8.140405e-01</td>\n",
       "      <td>7.709250e-01</td>\n",
       "      <td>7.345240e-01</td>\n",
       "      <td>7.257016e-01</td>\n",
       "      <td>6.244603e-01</td>\n",
       "      <td>6.056471e-01</td>\n",
       "      <td>5.212781e-01</td>\n",
       "      <td>4.822270e-01</td>\n",
       "      <td>4.036325e-01</td>\n",
       "      <td>3.300833e-01</td>\n",
       "      <td>250.120109</td>\n",
       "      <td>0.041527</td>\n",
       "    </tr>\n",
       "    <tr>\n",
       "      <th>min</th>\n",
       "      <td>0.000000</td>\n",
       "      <td>-5.640751e+01</td>\n",
       "      <td>-7.271573e+01</td>\n",
       "      <td>-4.832559e+01</td>\n",
       "      <td>-5.683171e+00</td>\n",
       "      <td>-1.137433e+02</td>\n",
       "      <td>-2.616051e+01</td>\n",
       "      <td>-4.355724e+01</td>\n",
       "      <td>-7.321672e+01</td>\n",
       "      <td>-1.343407e+01</td>\n",
       "      <td>-2.458826e+01</td>\n",
       "      <td>-4.797473e+00</td>\n",
       "      <td>-1.868371e+01</td>\n",
       "      <td>-5.791881e+00</td>\n",
       "      <td>-1.921433e+01</td>\n",
       "      <td>-4.498945e+00</td>\n",
       "      <td>-1.412985e+01</td>\n",
       "      <td>-2.516280e+01</td>\n",
       "      <td>-9.498746e+00</td>\n",
       "      <td>-7.213527e+00</td>\n",
       "      <td>-5.449772e+01</td>\n",
       "      <td>-3.483038e+01</td>\n",
       "      <td>-1.093314e+01</td>\n",
       "      <td>-4.480774e+01</td>\n",
       "      <td>-2.836627e+00</td>\n",
       "      <td>-1.029540e+01</td>\n",
       "      <td>-2.604551e+00</td>\n",
       "      <td>-2.256568e+01</td>\n",
       "      <td>-1.543008e+01</td>\n",
       "      <td>0.000000</td>\n",
       "      <td>0.000000</td>\n",
       "    </tr>\n",
       "    <tr>\n",
       "      <th>25%</th>\n",
       "      <td>54201.500000</td>\n",
       "      <td>-9.203734e-01</td>\n",
       "      <td>-5.985499e-01</td>\n",
       "      <td>-8.903648e-01</td>\n",
       "      <td>-8.486401e-01</td>\n",
       "      <td>-6.915971e-01</td>\n",
       "      <td>-7.682956e-01</td>\n",
       "      <td>-5.540759e-01</td>\n",
       "      <td>-2.086297e-01</td>\n",
       "      <td>-6.430976e-01</td>\n",
       "      <td>-5.354257e-01</td>\n",
       "      <td>-7.624942e-01</td>\n",
       "      <td>-4.055715e-01</td>\n",
       "      <td>-6.485393e-01</td>\n",
       "      <td>-4.255740e-01</td>\n",
       "      <td>-5.828843e-01</td>\n",
       "      <td>-4.680368e-01</td>\n",
       "      <td>-4.837483e-01</td>\n",
       "      <td>-4.988498e-01</td>\n",
       "      <td>-4.562989e-01</td>\n",
       "      <td>-2.117214e-01</td>\n",
       "      <td>-2.283949e-01</td>\n",
       "      <td>-5.423504e-01</td>\n",
       "      <td>-1.618463e-01</td>\n",
       "      <td>-3.545861e-01</td>\n",
       "      <td>-3.171451e-01</td>\n",
       "      <td>-3.269839e-01</td>\n",
       "      <td>-7.083953e-02</td>\n",
       "      <td>-5.295979e-02</td>\n",
       "      <td>5.600000</td>\n",
       "      <td>0.000000</td>\n",
       "    </tr>\n",
       "    <tr>\n",
       "      <th>50%</th>\n",
       "      <td>84692.000000</td>\n",
       "      <td>1.810880e-02</td>\n",
       "      <td>6.548556e-02</td>\n",
       "      <td>1.798463e-01</td>\n",
       "      <td>-1.984653e-02</td>\n",
       "      <td>-5.433583e-02</td>\n",
       "      <td>-2.741871e-01</td>\n",
       "      <td>4.010308e-02</td>\n",
       "      <td>2.235804e-02</td>\n",
       "      <td>-5.142873e-02</td>\n",
       "      <td>-9.291738e-02</td>\n",
       "      <td>-3.275735e-02</td>\n",
       "      <td>1.400326e-01</td>\n",
       "      <td>-1.356806e-02</td>\n",
       "      <td>5.060132e-02</td>\n",
       "      <td>4.807155e-02</td>\n",
       "      <td>6.641332e-02</td>\n",
       "      <td>-6.567575e-02</td>\n",
       "      <td>-3.636312e-03</td>\n",
       "      <td>3.734823e-03</td>\n",
       "      <td>-6.248109e-02</td>\n",
       "      <td>-2.945017e-02</td>\n",
       "      <td>6.781943e-03</td>\n",
       "      <td>-1.119293e-02</td>\n",
       "      <td>4.097606e-02</td>\n",
       "      <td>1.659350e-02</td>\n",
       "      <td>-5.213911e-02</td>\n",
       "      <td>1.342146e-03</td>\n",
       "      <td>1.124383e-02</td>\n",
       "      <td>22.000000</td>\n",
       "      <td>0.000000</td>\n",
       "    </tr>\n",
       "    <tr>\n",
       "      <th>75%</th>\n",
       "      <td>139320.500000</td>\n",
       "      <td>1.315642e+00</td>\n",
       "      <td>8.037239e-01</td>\n",
       "      <td>1.027196e+00</td>\n",
       "      <td>7.433413e-01</td>\n",
       "      <td>6.119264e-01</td>\n",
       "      <td>3.985649e-01</td>\n",
       "      <td>5.704361e-01</td>\n",
       "      <td>3.273459e-01</td>\n",
       "      <td>5.971390e-01</td>\n",
       "      <td>4.539234e-01</td>\n",
       "      <td>7.395934e-01</td>\n",
       "      <td>6.182380e-01</td>\n",
       "      <td>6.625050e-01</td>\n",
       "      <td>4.931498e-01</td>\n",
       "      <td>6.488208e-01</td>\n",
       "      <td>5.232963e-01</td>\n",
       "      <td>3.996750e-01</td>\n",
       "      <td>5.008067e-01</td>\n",
       "      <td>4.589494e-01</td>\n",
       "      <td>1.330408e-01</td>\n",
       "      <td>1.863772e-01</td>\n",
       "      <td>5.285536e-01</td>\n",
       "      <td>1.476421e-01</td>\n",
       "      <td>4.395266e-01</td>\n",
       "      <td>3.507156e-01</td>\n",
       "      <td>2.409522e-01</td>\n",
       "      <td>9.104512e-02</td>\n",
       "      <td>7.827995e-02</td>\n",
       "      <td>77.165000</td>\n",
       "      <td>0.000000</td>\n",
       "    </tr>\n",
       "    <tr>\n",
       "      <th>max</th>\n",
       "      <td>172792.000000</td>\n",
       "      <td>2.454930e+00</td>\n",
       "      <td>2.205773e+01</td>\n",
       "      <td>9.382558e+00</td>\n",
       "      <td>1.687534e+01</td>\n",
       "      <td>3.480167e+01</td>\n",
       "      <td>7.330163e+01</td>\n",
       "      <td>1.205895e+02</td>\n",
       "      <td>2.000721e+01</td>\n",
       "      <td>1.559499e+01</td>\n",
       "      <td>2.374514e+01</td>\n",
       "      <td>1.201891e+01</td>\n",
       "      <td>7.848392e+00</td>\n",
       "      <td>7.126883e+00</td>\n",
       "      <td>1.052677e+01</td>\n",
       "      <td>8.877742e+00</td>\n",
       "      <td>1.731511e+01</td>\n",
       "      <td>9.253526e+00</td>\n",
       "      <td>5.041069e+00</td>\n",
       "      <td>5.591971e+00</td>\n",
       "      <td>3.942090e+01</td>\n",
       "      <td>2.720284e+01</td>\n",
       "      <td>1.050309e+01</td>\n",
       "      <td>2.252841e+01</td>\n",
       "      <td>4.584549e+00</td>\n",
       "      <td>7.519589e+00</td>\n",
       "      <td>3.517346e+00</td>\n",
       "      <td>3.161220e+01</td>\n",
       "      <td>3.384781e+01</td>\n",
       "      <td>25691.160000</td>\n",
       "      <td>1.000000</td>\n",
       "    </tr>\n",
       "  </tbody>\n",
       "</table>\n",
       "</div>"
      ],
      "text/plain": [
       "                Time            V1            V2            V3            V4  \\\n",
       "count  284807.000000  2.848070e+05  2.848070e+05  2.848070e+05  2.848070e+05   \n",
       "mean    94813.859575  1.165980e-15  3.416908e-16 -1.373150e-15  2.086869e-15   \n",
       "std     47488.145955  1.958696e+00  1.651309e+00  1.516255e+00  1.415869e+00   \n",
       "min         0.000000 -5.640751e+01 -7.271573e+01 -4.832559e+01 -5.683171e+00   \n",
       "25%     54201.500000 -9.203734e-01 -5.985499e-01 -8.903648e-01 -8.486401e-01   \n",
       "50%     84692.000000  1.810880e-02  6.548556e-02  1.798463e-01 -1.984653e-02   \n",
       "75%    139320.500000  1.315642e+00  8.037239e-01  1.027196e+00  7.433413e-01   \n",
       "max    172792.000000  2.454930e+00  2.205773e+01  9.382558e+00  1.687534e+01   \n",
       "\n",
       "                 V5            V6            V7            V8            V9  \\\n",
       "count  2.848070e+05  2.848070e+05  2.848070e+05  2.848070e+05  2.848070e+05   \n",
       "mean   9.604066e-16  1.490107e-15 -5.556467e-16  1.177556e-16 -2.406455e-15   \n",
       "std    1.380247e+00  1.332271e+00  1.237094e+00  1.194353e+00  1.098632e+00   \n",
       "min   -1.137433e+02 -2.616051e+01 -4.355724e+01 -7.321672e+01 -1.343407e+01   \n",
       "25%   -6.915971e-01 -7.682956e-01 -5.540759e-01 -2.086297e-01 -6.430976e-01   \n",
       "50%   -5.433583e-02 -2.741871e-01  4.010308e-02  2.235804e-02 -5.142873e-02   \n",
       "75%    6.119264e-01  3.985649e-01  5.704361e-01  3.273459e-01  5.971390e-01   \n",
       "max    3.480167e+01  7.330163e+01  1.205895e+02  2.000721e+01  1.559499e+01   \n",
       "\n",
       "                V10           V11           V12           V13           V14  \\\n",
       "count  2.848070e+05  2.848070e+05  2.848070e+05  2.848070e+05  2.848070e+05   \n",
       "mean   2.239751e-15  1.673327e-15 -1.254995e-15  8.176030e-16  1.206296e-15   \n",
       "std    1.088850e+00  1.020713e+00  9.992014e-01  9.952742e-01  9.585956e-01   \n",
       "min   -2.458826e+01 -4.797473e+00 -1.868371e+01 -5.791881e+00 -1.921433e+01   \n",
       "25%   -5.354257e-01 -7.624942e-01 -4.055715e-01 -6.485393e-01 -4.255740e-01   \n",
       "50%   -9.291738e-02 -3.275735e-02  1.400326e-01 -1.356806e-02  5.060132e-02   \n",
       "75%    4.539234e-01  7.395934e-01  6.182380e-01  6.625050e-01  4.931498e-01   \n",
       "max    2.374514e+01  1.201891e+01  7.848392e+00  7.126883e+00  1.052677e+01   \n",
       "\n",
       "                V15           V16           V17           V18           V19  \\\n",
       "count  2.848070e+05  2.848070e+05  2.848070e+05  2.848070e+05  2.848070e+05   \n",
       "mean   4.913003e-15  1.437666e-15 -3.800113e-16  9.572133e-16  1.039817e-15   \n",
       "std    9.153160e-01  8.762529e-01  8.493371e-01  8.381762e-01  8.140405e-01   \n",
       "min   -4.498945e+00 -1.412985e+01 -2.516280e+01 -9.498746e+00 -7.213527e+00   \n",
       "25%   -5.828843e-01 -4.680368e-01 -4.837483e-01 -4.988498e-01 -4.562989e-01   \n",
       "50%    4.807155e-02  6.641332e-02 -6.567575e-02 -3.636312e-03  3.734823e-03   \n",
       "75%    6.488208e-01  5.232963e-01  3.996750e-01  5.008067e-01  4.589494e-01   \n",
       "max    8.877742e+00  1.731511e+01  9.253526e+00  5.041069e+00  5.591971e+00   \n",
       "\n",
       "                V20           V21           V22           V23           V24  \\\n",
       "count  2.848070e+05  2.848070e+05  2.848070e+05  2.848070e+05  2.848070e+05   \n",
       "mean   6.406703e-16  1.656562e-16 -3.444850e-16  2.578648e-16  4.471968e-15   \n",
       "std    7.709250e-01  7.345240e-01  7.257016e-01  6.244603e-01  6.056471e-01   \n",
       "min   -5.449772e+01 -3.483038e+01 -1.093314e+01 -4.480774e+01 -2.836627e+00   \n",
       "25%   -2.117214e-01 -2.283949e-01 -5.423504e-01 -1.618463e-01 -3.545861e-01   \n",
       "50%   -6.248109e-02 -2.945017e-02  6.781943e-03 -1.119293e-02  4.097606e-02   \n",
       "75%    1.330408e-01  1.863772e-01  5.285536e-01  1.476421e-01  4.395266e-01   \n",
       "max    3.942090e+01  2.720284e+01  1.050309e+01  2.252841e+01  4.584549e+00   \n",
       "\n",
       "                V25           V26           V27           V28         Amount  \\\n",
       "count  2.848070e+05  2.848070e+05  2.848070e+05  2.848070e+05  284807.000000   \n",
       "mean   5.340915e-16  1.687098e-15 -3.666453e-16 -1.220404e-16      88.349619   \n",
       "std    5.212781e-01  4.822270e-01  4.036325e-01  3.300833e-01     250.120109   \n",
       "min   -1.029540e+01 -2.604551e+00 -2.256568e+01 -1.543008e+01       0.000000   \n",
       "25%   -3.171451e-01 -3.269839e-01 -7.083953e-02 -5.295979e-02       5.600000   \n",
       "50%    1.659350e-02 -5.213911e-02  1.342146e-03  1.124383e-02      22.000000   \n",
       "75%    3.507156e-01  2.409522e-01  9.104512e-02  7.827995e-02      77.165000   \n",
       "max    7.519589e+00  3.517346e+00  3.161220e+01  3.384781e+01   25691.160000   \n",
       "\n",
       "               Class  \n",
       "count  284807.000000  \n",
       "mean        0.001727  \n",
       "std         0.041527  \n",
       "min         0.000000  \n",
       "25%         0.000000  \n",
       "50%         0.000000  \n",
       "75%         0.000000  \n",
       "max         1.000000  "
      ]
     },
     "execution_count": 5,
     "metadata": {},
     "output_type": "execute_result"
    }
   ],
   "source": [
    "data.describe()"
   ]
  },
  {
   "cell_type": "code",
   "execution_count": 6,
   "metadata": {},
   "outputs": [
    {
     "name": "stdout",
     "output_type": "stream",
     "text": [
      "Count of duplicates: 1081\n"
     ]
    }
   ],
   "source": [
    "print('Count of duplicates:', data.duplicated().sum())"
   ]
  },
  {
   "cell_type": "code",
   "execution_count": 7,
   "metadata": {},
   "outputs": [],
   "source": [
    "data = data.drop_duplicates()"
   ]
  },
  {
   "cell_type": "code",
   "execution_count": 8,
   "metadata": {},
   "outputs": [
    {
     "name": "stdout",
     "output_type": "stream",
     "text": [
      "Presence of null values: False\n"
     ]
    }
   ],
   "source": [
    "print('Presence of null values:', data.isnull().sum().any())"
   ]
  },
  {
   "cell_type": "code",
   "execution_count": 9,
   "metadata": {},
   "outputs": [
    {
     "data": {
      "text/plain": [
       "Text(0.5, 1.0, 'Distribution des classes du dataset')"
      ]
     },
     "execution_count": 9,
     "metadata": {},
     "output_type": "execute_result"
    },
    {
     "data": {
      "image/png": "[encoded data removed]",
      "text/plain": [
       "<Figure size 360x360 with 1 Axes>"
      ]
     },
     "metadata": {
      "needs_background": "light"
     },
     "output_type": "display_data"
    }
   ],
   "source": [
    "target, freq = np.unique(data['Class'], return_counts=True)\n",
    "\n",
    "plt.figure(figsize=(5,5))\n",
    "plt.ylabel('Fréquence', fontsize=10)\n",
    "plt.xlabel('Classe', fontsize=10)\n",
    "sns.barplot(target, freq)\n",
    "plt.title('Distribution des classes du dataset')"
   ]
  },
  {
   "cell_type": "code",
   "execution_count": 10,
   "metadata": {},
   "outputs": [
    {
     "data": {
      "text/plain": [
       "array([283253,    473])"
      ]
     },
     "execution_count": 10,
     "metadata": {},
     "output_type": "execute_result"
    }
   ],
   "source": [
    "freq"
   ]
  },
  {
   "cell_type": "markdown",
   "metadata": {},
   "source": [
    "Les classes (0: pas de fraude , 1: fraude) sont mal distribués si nous utilisons ces données avec notre modèle Random Forest nous allons certainement nous retrouver face à un problème de sur-apprentissage car le classifieur va supposer que dans la majorité des cas il n'y a pas de fraudes donc ne va pas pouvoir reconnaitre une opération frauduleuse et va prédire seulement la classe 0."
   ]
  },
  {
   "cell_type": "code",
   "execution_count": 11,
   "metadata": {},
   "outputs": [
    {
     "data": {
      "text/html": [
       "<div>\n",
       "<style scoped>\n",
       "    .dataframe tbody tr th:only-of-type {\n",
       "        vertical-align: middle;\n",
       "    }\n",
       "\n",
       "    .dataframe tbody tr th {\n",
       "        vertical-align: top;\n",
       "    }\n",
       "\n",
       "    .dataframe thead th {\n",
       "        text-align: right;\n",
       "    }\n",
       "</style>\n",
       "<table border=\"1\" class=\"dataframe\">\n",
       "  <thead>\n",
       "    <tr style=\"text-align: right;\">\n",
       "      <th></th>\n",
       "      <th>V1</th>\n",
       "      <th>V2</th>\n",
       "      <th>V3</th>\n",
       "      <th>V4</th>\n",
       "      <th>V5</th>\n",
       "      <th>V6</th>\n",
       "      <th>V7</th>\n",
       "      <th>V8</th>\n",
       "      <th>V9</th>\n",
       "      <th>V10</th>\n",
       "      <th>V11</th>\n",
       "      <th>V12</th>\n",
       "      <th>V13</th>\n",
       "      <th>V14</th>\n",
       "      <th>V15</th>\n",
       "      <th>V16</th>\n",
       "      <th>V17</th>\n",
       "      <th>V18</th>\n",
       "      <th>V19</th>\n",
       "      <th>V20</th>\n",
       "      <th>V21</th>\n",
       "      <th>V22</th>\n",
       "      <th>V23</th>\n",
       "      <th>V24</th>\n",
       "      <th>V25</th>\n",
       "      <th>V26</th>\n",
       "      <th>V27</th>\n",
       "      <th>V28</th>\n",
       "    </tr>\n",
       "  </thead>\n",
       "  <tbody>\n",
       "    <tr>\n",
       "      <th>34380</th>\n",
       "      <td>1.123587</td>\n",
       "      <td>-0.294697</td>\n",
       "      <td>0.084302</td>\n",
       "      <td>0.265467</td>\n",
       "      <td>-0.046382</td>\n",
       "      <td>0.574608</td>\n",
       "      <td>-0.372450</td>\n",
       "      <td>0.29761</td>\n",
       "      <td>0.284187</td>\n",
       "      <td>0.080413</td>\n",
       "      <td>0.294070</td>\n",
       "      <td>-0.245132</td>\n",
       "      <td>-1.372574</td>\n",
       "      <td>0.657248</td>\n",
       "      <td>0.973587</td>\n",
       "      <td>0.733536</td>\n",
       "      <td>-0.767116</td>\n",
       "      <td>0.369704</td>\n",
       "      <td>0.117632</td>\n",
       "      <td>-0.061983</td>\n",
       "      <td>-0.085848</td>\n",
       "      <td>-0.445942</td>\n",
       "      <td>-0.094838</td>\n",
       "      <td>-1.179337</td>\n",
       "      <td>0.235899</td>\n",
       "      <td>0.314886</td>\n",
       "      <td>-0.030521</td>\n",
       "      <td>0.002082</td>\n",
       "    </tr>\n",
       "    <tr>\n",
       "      <th>19364</th>\n",
       "      <td>1.031784</td>\n",
       "      <td>-0.733888</td>\n",
       "      <td>0.031080</td>\n",
       "      <td>-1.824939</td>\n",
       "      <td>-0.897134</td>\n",
       "      <td>-1.191475</td>\n",
       "      <td>0.126963</td>\n",
       "      <td>-0.24592</td>\n",
       "      <td>1.851156</td>\n",
       "      <td>-1.712080</td>\n",
       "      <td>0.409495</td>\n",
       "      <td>1.558918</td>\n",
       "      <td>0.450715</td>\n",
       "      <td>0.164171</td>\n",
       "      <td>1.432555</td>\n",
       "      <td>-1.669933</td>\n",
       "      <td>0.569564</td>\n",
       "      <td>-0.869563</td>\n",
       "      <td>0.846033</td>\n",
       "      <td>0.121720</td>\n",
       "      <td>-0.059102</td>\n",
       "      <td>-0.104113</td>\n",
       "      <td>-0.091606</td>\n",
       "      <td>0.438456</td>\n",
       "      <td>0.561651</td>\n",
       "      <td>-0.900079</td>\n",
       "      <td>0.064549</td>\n",
       "      <td>0.043198</td>\n",
       "    </tr>\n",
       "    <tr>\n",
       "      <th>203635</th>\n",
       "      <td>-1.177089</td>\n",
       "      <td>1.090273</td>\n",
       "      <td>1.722230</td>\n",
       "      <td>2.522684</td>\n",
       "      <td>-1.030275</td>\n",
       "      <td>0.516655</td>\n",
       "      <td>-0.175731</td>\n",
       "      <td>0.41541</td>\n",
       "      <td>-1.426205</td>\n",
       "      <td>1.047086</td>\n",
       "      <td>-1.159150</td>\n",
       "      <td>-1.304258</td>\n",
       "      <td>-0.459061</td>\n",
       "      <td>0.206994</td>\n",
       "      <td>1.627957</td>\n",
       "      <td>0.594914</td>\n",
       "      <td>0.401948</td>\n",
       "      <td>0.246581</td>\n",
       "      <td>1.723679</td>\n",
       "      <td>0.032128</td>\n",
       "      <td>0.150900</td>\n",
       "      <td>0.313952</td>\n",
       "      <td>-0.005470</td>\n",
       "      <td>0.083062</td>\n",
       "      <td>-0.320053</td>\n",
       "      <td>2.790437</td>\n",
       "      <td>-0.550214</td>\n",
       "      <td>0.043932</td>\n",
       "    </tr>\n",
       "  </tbody>\n",
       "</table>\n",
       "</div>"
      ],
      "text/plain": [
       "              V1        V2        V3        V4        V5        V6        V7  \\\n",
       "34380   1.123587 -0.294697  0.084302  0.265467 -0.046382  0.574608 -0.372450   \n",
       "19364   1.031784 -0.733888  0.031080 -1.824939 -0.897134 -1.191475  0.126963   \n",
       "203635 -1.177089  1.090273  1.722230  2.522684 -1.030275  0.516655 -0.175731   \n",
       "\n",
       "             V8        V9       V10       V11       V12       V13       V14  \\\n",
       "34380   0.29761  0.284187  0.080413  0.294070 -0.245132 -1.372574  0.657248   \n",
       "19364  -0.24592  1.851156 -1.712080  0.409495  1.558918  0.450715  0.164171   \n",
       "203635  0.41541 -1.426205  1.047086 -1.159150 -1.304258 -0.459061  0.206994   \n",
       "\n",
       "             V15       V16       V17       V18       V19       V20       V21  \\\n",
       "34380   0.973587  0.733536 -0.767116  0.369704  0.117632 -0.061983 -0.085848   \n",
       "19364   1.432555 -1.669933  0.569564 -0.869563  0.846033  0.121720 -0.059102   \n",
       "203635  1.627957  0.594914  0.401948  0.246581  1.723679  0.032128  0.150900   \n",
       "\n",
       "             V22       V23       V24       V25       V26       V27       V28  \n",
       "34380  -0.445942 -0.094838 -1.179337  0.235899  0.314886 -0.030521  0.002082  \n",
       "19364  -0.104113 -0.091606  0.438456  0.561651 -0.900079  0.064549  0.043198  \n",
       "203635  0.313952 -0.005470  0.083062 -0.320053  2.790437 -0.550214  0.043932  "
      ]
     },
     "execution_count": 11,
     "metadata": {},
     "output_type": "execute_result"
    }
   ],
   "source": [
    "train = data.drop(['Class','Time','Amount'], axis='columns').copy()\n",
    "train.sample(3)"
   ]
  },
  {
   "cell_type": "code",
   "execution_count": 12,
   "metadata": {},
   "outputs": [
    {
     "data": {
      "text/html": [
       "<div>\n",
       "<style scoped>\n",
       "    .dataframe tbody tr th:only-of-type {\n",
       "        vertical-align: middle;\n",
       "    }\n",
       "\n",
       "    .dataframe tbody tr th {\n",
       "        vertical-align: top;\n",
       "    }\n",
       "\n",
       "    .dataframe thead th {\n",
       "        text-align: right;\n",
       "    }\n",
       "</style>\n",
       "<table border=\"1\" class=\"dataframe\">\n",
       "  <thead>\n",
       "    <tr style=\"text-align: right;\">\n",
       "      <th></th>\n",
       "      <th>Class</th>\n",
       "    </tr>\n",
       "  </thead>\n",
       "  <tbody>\n",
       "    <tr>\n",
       "      <th>98233</th>\n",
       "      <td>0</td>\n",
       "    </tr>\n",
       "    <tr>\n",
       "      <th>223526</th>\n",
       "      <td>0</td>\n",
       "    </tr>\n",
       "    <tr>\n",
       "      <th>90619</th>\n",
       "      <td>0</td>\n",
       "    </tr>\n",
       "  </tbody>\n",
       "</table>\n",
       "</div>"
      ],
      "text/plain": [
       "        Class\n",
       "98233       0\n",
       "223526      0\n",
       "90619       0"
      ]
     },
     "execution_count": 12,
     "metadata": {},
     "output_type": "execute_result"
    }
   ],
   "source": [
    "y = data[['Class']].copy()\n",
    "y.sample(3)"
   ]
  },
  {
   "cell_type": "code",
   "execution_count": 13,
   "metadata": {},
   "outputs": [],
   "source": [
    "X_train, X_test, y_train, y_test = train_test_split(train, y, test_size=0.2, random_state=0)"
   ]
  },
  {
   "cell_type": "markdown",
   "metadata": {},
   "source": [
    "# 2 - Application des modèles sur les données d'origine"
   ]
  },
  {
   "cell_type": "markdown",
   "metadata": {},
   "source": [
    "## 1. Modèles de Bagging "
   ]
  },
  {
   "cell_type": "markdown",
   "metadata": {},
   "source": [
    "### 1.1 BaggingClassifier\n",
    "\n",
    "Un classificateur Bagging est un méta-estimateur d'ensemble qui ajuste les classificateurs de base chacun sur des sous-ensembles aléatoires de l'ensemble de données d'origine, puis agrège leurs prédictions individuelles (par vote ou par calcul de la moyenne) pour former une prédiction finale. "
   ]
  },
  {
   "cell_type": "code",
   "execution_count": 14,
   "metadata": {},
   "outputs": [],
   "source": [
    "clf = BaggingClassifier()\n",
    "clf.fit(X_train, y_train.values.ravel())\n",
    "predicted = clf.predict(X_test)\n",
    "score = accuracy_score(y_test, predicted)"
   ]
  },
  {
   "cell_type": "code",
   "execution_count": 15,
   "metadata": {},
   "outputs": [
    {
     "data": {
      "text/plain": [
       "0.9994713283755683"
      ]
     },
     "execution_count": 15,
     "metadata": {},
     "output_type": "execute_result"
    }
   ],
   "source": [
    "score"
   ]
  },
  {
   "cell_type": "code",
   "execution_count": 16,
   "metadata": {},
   "outputs": [
    {
     "data": {
      "image/png": "[encoded data removed]",
      "text/plain": [
       "<Figure size 1080x720 with 2 Axes>"
      ]
     },
     "metadata": {
      "needs_background": "light"
     },
     "output_type": "display_data"
    }
   ],
   "source": [
    "conf_mat = confusion_matrix(y_test, predicted)\n",
    "labels = ['0','1']\n",
    "fig,ax = plt.subplots(figsize=(15,10))\n",
    "sns.heatmap(conf_mat, annot=True, cmap=\"Set3\", fmt=\"d\", xticklabels = labels, yticklabels = labels)\n",
    "plt.ylabel('Vraie valeur')\n",
    "plt.xlabel('Predite')\n",
    "plt.title('Matrice de confusion')\n",
    "plt.show()"
   ]
  },
  {
   "cell_type": "code",
   "execution_count": 17,
   "metadata": {},
   "outputs": [],
   "source": [
    "Bgcla_FN=conf_mat[1][0]/sum(conf_mat[1])*100\n",
    "Bgcla_FP=conf_mat[0][1]/sum(conf_mat[0])*100"
   ]
  },
  {
   "cell_type": "markdown",
   "metadata": {},
   "source": [
    "### 1.2 Logistic Regression"
   ]
  },
  {
   "cell_type": "code",
   "execution_count": 26,
   "metadata": {},
   "outputs": [
    {
     "name": "stderr",
     "output_type": "stream",
     "text": [
      "/home/G20980/back_grid/notebooks/venv_grid/lib/python3.6/site-packages/sklearn/linear_model/_logistic.py:764: ConvergenceWarning: lbfgs failed to converge (status=1):\n",
      "STOP: TOTAL NO. of ITERATIONS REACHED LIMIT.\n",
      "\n",
      "Increase the number of iterations (max_iter) or scale the data as shown in:\n",
      "    https://scikit-learn.org/stable/modules/preprocessing.html\n",
      "Please also refer to the documentation for alternative solver options:\n",
      "    https://scikit-learn.org/stable/modules/linear_model.html#logistic-regression\n",
      "  extra_warning_msg=_LOGISTIC_SOLVER_CONVERGENCE_MSG)\n",
      "/home/G20980/back_grid/notebooks/venv_grid/lib/python3.6/site-packages/sklearn/linear_model/_logistic.py:764: ConvergenceWarning: lbfgs failed to converge (status=1):\n",
      "STOP: TOTAL NO. of ITERATIONS REACHED LIMIT.\n",
      "\n",
      "Increase the number of iterations (max_iter) or scale the data as shown in:\n",
      "    https://scikit-learn.org/stable/modules/preprocessing.html\n",
      "Please also refer to the documentation for alternative solver options:\n",
      "    https://scikit-learn.org/stable/modules/linear_model.html#logistic-regression\n",
      "  extra_warning_msg=_LOGISTIC_SOLVER_CONVERGENCE_MSG)\n",
      "/home/G20980/back_grid/notebooks/venv_grid/lib/python3.6/site-packages/sklearn/linear_model/_logistic.py:764: ConvergenceWarning: lbfgs failed to converge (status=1):\n",
      "STOP: TOTAL NO. of ITERATIONS REACHED LIMIT.\n",
      "\n",
      "Increase the number of iterations (max_iter) or scale the data as shown in:\n",
      "    https://scikit-learn.org/stable/modules/preprocessing.html\n",
      "Please also refer to the documentation for alternative solver options:\n",
      "    https://scikit-learn.org/stable/modules/linear_model.html#logistic-regression\n",
      "  extra_warning_msg=_LOGISTIC_SOLVER_CONVERGENCE_MSG)\n"
     ]
    },
    {
     "data": {
      "text/plain": [
       "BaggingClassifier(base_estimator=LogisticRegression(random_state=0),\n",
       "                  n_estimators=400, oob_score=True, random_state=90)"
      ]
     },
     "execution_count": 26,
     "metadata": {},
     "output_type": "execute_result"
    }
   ],
   "source": [
    "logbagClf = BaggingClassifier(LogisticRegression(random_state=0, solver='lbfgs'), n_estimators = 400, oob_score = True, random_state = 90)\n",
    "logbagClf.fit(X_train, y_train.values.ravel())"
   ]
  },
  {
   "cell_type": "code",
   "execution_count": 27,
   "metadata": {},
   "outputs": [
    {
     "name": "stdout",
     "output_type": "stream",
     "text": [
      "0.9991365030134283\n"
     ]
    }
   ],
   "source": [
    "predicted = logbagClf.predict(X_test)\n",
    "score = accuracy_score(y_test, predicted)\n",
    "print(score)"
   ]
  },
  {
   "cell_type": "code",
   "execution_count": 28,
   "metadata": {},
   "outputs": [
    {
     "data": {
      "image/png": "[encoded data removed]",
      "text/plain": [
       "<Figure size 1080x720 with 2 Axes>"
      ]
     },
     "metadata": {
      "needs_background": "light"
     },
     "output_type": "display_data"
    }
   ],
   "source": [
    "conf_mat = confusion_matrix(y_test, predicted)\n",
    "labels = ['0','1']\n",
    "fig,ax = plt.subplots(figsize=(15,10))\n",
    "sns.heatmap(conf_mat, annot=True, cmap=\"Set3\", fmt=\"d\", xticklabels = labels, yticklabels = labels)\n",
    "plt.ylabel('Vraie valeur')\n",
    "plt.xlabel('Predite')\n",
    "plt.title('Matrice de confusion')\n",
    "plt.show()"
   ]
  },
  {
   "cell_type": "code",
   "execution_count": 29,
   "metadata": {},
   "outputs": [],
   "source": [
    "RL_FN=conf_mat[1][0]/sum(conf_mat[1])*100\n",
    "RL_FP=conf_mat[0][1]/sum(conf_mat[0])*100"
   ]
  },
  {
   "cell_type": "markdown",
   "metadata": {},
   "source": [
    "### 1.3 Gaussian Naïve Bayes"
   ]
  },
  {
   "cell_type": "code",
   "execution_count": 30,
   "metadata": {},
   "outputs": [
    {
     "data": {
      "text/plain": [
       "BaggingClassifier(base_estimator=GaussianNB(), n_estimators=400, oob_score=True,\n",
       "                  random_state=90)"
      ]
     },
     "execution_count": 30,
     "metadata": {},
     "output_type": "execute_result"
    }
   ],
   "source": [
    "GNBbagClf = BaggingClassifier(GaussianNB(), n_estimators = 400, oob_score = True, random_state = 90)\n",
    "GNBbagClf.fit(X_train, y_train.values.ravel())"
   ]
  },
  {
   "cell_type": "code",
   "execution_count": 31,
   "metadata": {},
   "outputs": [
    {
     "name": "stdout",
     "output_type": "stream",
     "text": [
      "0.9991365030134283\n"
     ]
    }
   ],
   "source": [
    "predicted = logbagClf.predict(X_test)\n",
    "score = accuracy_score(y_test, predicted)\n",
    "print(score)"
   ]
  },
  {
   "cell_type": "code",
   "execution_count": 32,
   "metadata": {},
   "outputs": [
    {
     "data": {
      "image/png": "[encoded data removed]",
      "text/plain": [
       "<Figure size 1080x720 with 2 Axes>"
      ]
     },
     "metadata": {
      "needs_background": "light"
     },
     "output_type": "display_data"
    }
   ],
   "source": [
    "conf_mat = confusion_matrix(y_test, predicted)\n",
    "labels = ['0','1']\n",
    "fig,ax = plt.subplots(figsize=(15,10))\n",
    "sns.heatmap(conf_mat, annot=True, cmap=\"Set3\", fmt=\"d\", xticklabels = labels, yticklabels = labels)\n",
    "plt.ylabel('Vraie valeur')\n",
    "plt.xlabel('Predite')\n",
    "plt.title('Matrice de confusion')\n",
    "plt.show()"
   ]
  },
  {
   "cell_type": "code",
   "execution_count": 33,
   "metadata": {},
   "outputs": [],
   "source": [
    "GNB_FN=conf_mat[1][0]/sum(conf_mat[1])*100\n",
    "GNB_FP=conf_mat[0][1]/sum(conf_mat[0])*100"
   ]
  },
  {
   "cell_type": "markdown",
   "metadata": {},
   "source": [
    "### 1.4 One class SVM"
   ]
  },
  {
   "cell_type": "code",
   "execution_count": 34,
   "metadata": {},
   "outputs": [
    {
     "data": {
      "text/plain": [
       "Text(0.5, 1.0, 'Distribution des classes du dataset')"
      ]
     },
     "execution_count": 34,
     "metadata": {},
     "output_type": "execute_result"
    },
    {
     "data": {
      "image/png": "[encoded data removed]",
      "text/plain": [
       "<Figure size 360x360 with 1 Axes>"
      ]
     },
     "metadata": {
      "needs_background": "light"
     },
     "output_type": "display_data"
    }
   ],
   "source": [
    "data_sampled = data.sample(100000)\n",
    "target, freq = np.unique(data_sampled['Class'], return_counts=True)\n",
    "plt.figure(figsize=(5,5))\n",
    "plt.ylabel('Fréquence', fontsize=10)\n",
    "plt.xlabel('Classe', fontsize=10)\n",
    "sns.barplot(target, freq)\n",
    "plt.title('Distribution des classes du dataset')"
   ]
  },
  {
   "cell_type": "code",
   "execution_count": 35,
   "metadata": {},
   "outputs": [],
   "source": [
    "data_sampled.loc[data_sampled['Class'] == 1, \"Class\"] = -1\n",
    "data_sampled.loc[data_sampled['Class'] == 0, \"Class\"] = 1"
   ]
  },
  {
   "cell_type": "code",
   "execution_count": 36,
   "metadata": {},
   "outputs": [
    {
     "data": {
      "text/html": [
       "<div>\n",
       "<style scoped>\n",
       "    .dataframe tbody tr th:only-of-type {\n",
       "        vertical-align: middle;\n",
       "    }\n",
       "\n",
       "    .dataframe tbody tr th {\n",
       "        vertical-align: top;\n",
       "    }\n",
       "\n",
       "    .dataframe thead th {\n",
       "        text-align: right;\n",
       "    }\n",
       "</style>\n",
       "<table border=\"1\" class=\"dataframe\">\n",
       "  <thead>\n",
       "    <tr style=\"text-align: right;\">\n",
       "      <th></th>\n",
       "      <th>V1</th>\n",
       "      <th>V2</th>\n",
       "      <th>V3</th>\n",
       "      <th>V4</th>\n",
       "      <th>V5</th>\n",
       "      <th>V6</th>\n",
       "      <th>V7</th>\n",
       "      <th>V8</th>\n",
       "      <th>V9</th>\n",
       "      <th>V10</th>\n",
       "      <th>V11</th>\n",
       "      <th>V12</th>\n",
       "      <th>V13</th>\n",
       "      <th>V14</th>\n",
       "      <th>V15</th>\n",
       "      <th>V16</th>\n",
       "      <th>V17</th>\n",
       "      <th>V18</th>\n",
       "      <th>V19</th>\n",
       "      <th>V20</th>\n",
       "      <th>V21</th>\n",
       "      <th>V22</th>\n",
       "      <th>V23</th>\n",
       "      <th>V24</th>\n",
       "      <th>V25</th>\n",
       "      <th>V26</th>\n",
       "      <th>V27</th>\n",
       "      <th>V28</th>\n",
       "    </tr>\n",
       "  </thead>\n",
       "  <tbody>\n",
       "    <tr>\n",
       "      <th>220037</th>\n",
       "      <td>2.236948</td>\n",
       "      <td>-0.463798</td>\n",
       "      <td>-2.084714</td>\n",
       "      <td>-0.804048</td>\n",
       "      <td>0.049640</td>\n",
       "      <td>-1.017064</td>\n",
       "      <td>-0.224189</td>\n",
       "      <td>-0.282772</td>\n",
       "      <td>-0.431771</td>\n",
       "      <td>0.301351</td>\n",
       "      <td>-0.725194</td>\n",
       "      <td>-1.110336</td>\n",
       "      <td>-0.492591</td>\n",
       "      <td>-1.180251</td>\n",
       "      <td>-0.062997</td>\n",
       "      <td>1.162262</td>\n",
       "      <td>1.241042</td>\n",
       "      <td>-1.127777</td>\n",
       "      <td>0.773407</td>\n",
       "      <td>-0.009059</td>\n",
       "      <td>-0.071875</td>\n",
       "      <td>-0.224184</td>\n",
       "      <td>0.175139</td>\n",
       "      <td>0.361389</td>\n",
       "      <td>0.027908</td>\n",
       "      <td>-0.293921</td>\n",
       "      <td>-0.034810</td>\n",
       "      <td>-0.032929</td>\n",
       "    </tr>\n",
       "    <tr>\n",
       "      <th>155057</th>\n",
       "      <td>-0.541021</td>\n",
       "      <td>-1.406677</td>\n",
       "      <td>0.975383</td>\n",
       "      <td>-1.504580</td>\n",
       "      <td>-1.042517</td>\n",
       "      <td>-0.498811</td>\n",
       "      <td>-0.494168</td>\n",
       "      <td>-1.034032</td>\n",
       "      <td>0.831329</td>\n",
       "      <td>-0.595377</td>\n",
       "      <td>-0.027917</td>\n",
       "      <td>-3.340508</td>\n",
       "      <td>1.514489</td>\n",
       "      <td>1.143033</td>\n",
       "      <td>-0.638429</td>\n",
       "      <td>1.722413</td>\n",
       "      <td>0.491987</td>\n",
       "      <td>-0.619058</td>\n",
       "      <td>-0.902912</td>\n",
       "      <td>0.545748</td>\n",
       "      <td>1.191179</td>\n",
       "      <td>0.199235</td>\n",
       "      <td>-1.009762</td>\n",
       "      <td>-0.024477</td>\n",
       "      <td>0.847481</td>\n",
       "      <td>-0.106353</td>\n",
       "      <td>0.049212</td>\n",
       "      <td>0.268114</td>\n",
       "    </tr>\n",
       "    <tr>\n",
       "      <th>283114</th>\n",
       "      <td>0.345687</td>\n",
       "      <td>0.321496</td>\n",
       "      <td>0.790972</td>\n",
       "      <td>-0.386242</td>\n",
       "      <td>0.079887</td>\n",
       "      <td>0.717938</td>\n",
       "      <td>-0.424456</td>\n",
       "      <td>-0.665202</td>\n",
       "      <td>0.453063</td>\n",
       "      <td>-0.533284</td>\n",
       "      <td>-0.063855</td>\n",
       "      <td>1.229503</td>\n",
       "      <td>1.186047</td>\n",
       "      <td>-0.172742</td>\n",
       "      <td>-0.265137</td>\n",
       "      <td>0.412798</td>\n",
       "      <td>-1.042361</td>\n",
       "      <td>0.968701</td>\n",
       "      <td>0.588596</td>\n",
       "      <td>-0.126706</td>\n",
       "      <td>0.940672</td>\n",
       "      <td>0.459140</td>\n",
       "      <td>-0.423923</td>\n",
       "      <td>-0.975511</td>\n",
       "      <td>0.921813</td>\n",
       "      <td>-0.012575</td>\n",
       "      <td>0.230464</td>\n",
       "      <td>0.231202</td>\n",
       "    </tr>\n",
       "  </tbody>\n",
       "</table>\n",
       "</div>"
      ],
      "text/plain": [
       "              V1        V2        V3        V4        V5        V6        V7  \\\n",
       "220037  2.236948 -0.463798 -2.084714 -0.804048  0.049640 -1.017064 -0.224189   \n",
       "155057 -0.541021 -1.406677  0.975383 -1.504580 -1.042517 -0.498811 -0.494168   \n",
       "283114  0.345687  0.321496  0.790972 -0.386242  0.079887  0.717938 -0.424456   \n",
       "\n",
       "              V8        V9       V10       V11       V12       V13       V14  \\\n",
       "220037 -0.282772 -0.431771  0.301351 -0.725194 -1.110336 -0.492591 -1.180251   \n",
       "155057 -1.034032  0.831329 -0.595377 -0.027917 -3.340508  1.514489  1.143033   \n",
       "283114 -0.665202  0.453063 -0.533284 -0.063855  1.229503  1.186047 -0.172742   \n",
       "\n",
       "             V15       V16       V17       V18       V19       V20       V21  \\\n",
       "220037 -0.062997  1.162262  1.241042 -1.127777  0.773407 -0.009059 -0.071875   \n",
       "155057 -0.638429  1.722413  0.491987 -0.619058 -0.902912  0.545748  1.191179   \n",
       "283114 -0.265137  0.412798 -1.042361  0.968701  0.588596 -0.126706  0.940672   \n",
       "\n",
       "             V22       V23       V24       V25       V26       V27       V28  \n",
       "220037 -0.224184  0.175139  0.361389  0.027908 -0.293921 -0.034810 -0.032929  \n",
       "155057  0.199235 -1.009762 -0.024477  0.847481 -0.106353  0.049212  0.268114  \n",
       "283114  0.459140 -0.423923 -0.975511  0.921813 -0.012575  0.230464  0.231202  "
      ]
     },
     "execution_count": 36,
     "metadata": {},
     "output_type": "execute_result"
    }
   ],
   "source": [
    "train_sampled = data_sampled.drop(['Class','Time','Amount'], axis='columns').copy()\n",
    "train_sampled.sample(3)"
   ]
  },
  {
   "cell_type": "code",
   "execution_count": 37,
   "metadata": {},
   "outputs": [
    {
     "data": {
      "text/html": [
       "<div>\n",
       "<style scoped>\n",
       "    .dataframe tbody tr th:only-of-type {\n",
       "        vertical-align: middle;\n",
       "    }\n",
       "\n",
       "    .dataframe tbody tr th {\n",
       "        vertical-align: top;\n",
       "    }\n",
       "\n",
       "    .dataframe thead th {\n",
       "        text-align: right;\n",
       "    }\n",
       "</style>\n",
       "<table border=\"1\" class=\"dataframe\">\n",
       "  <thead>\n",
       "    <tr style=\"text-align: right;\">\n",
       "      <th></th>\n",
       "      <th>Class</th>\n",
       "    </tr>\n",
       "  </thead>\n",
       "  <tbody>\n",
       "    <tr>\n",
       "      <th>179641</th>\n",
       "      <td>1</td>\n",
       "    </tr>\n",
       "    <tr>\n",
       "      <th>261126</th>\n",
       "      <td>1</td>\n",
       "    </tr>\n",
       "    <tr>\n",
       "      <th>192115</th>\n",
       "      <td>1</td>\n",
       "    </tr>\n",
       "  </tbody>\n",
       "</table>\n",
       "</div>"
      ],
      "text/plain": [
       "        Class\n",
       "179641      1\n",
       "261126      1\n",
       "192115      1"
      ]
     },
     "execution_count": 37,
     "metadata": {},
     "output_type": "execute_result"
    }
   ],
   "source": [
    "y_sampled = data_sampled[['Class']].copy()\n",
    "y_sampled.sample(3)"
   ]
  },
  {
   "cell_type": "code",
   "execution_count": 38,
   "metadata": {},
   "outputs": [],
   "source": [
    "X_train_sampled, X_test_sampled, y_train_sampled, y_test_sampled = train_test_split(train_sampled, y_sampled, test_size=0.2, random_state=0)"
   ]
  },
  {
   "cell_type": "code",
   "execution_count": 39,
   "metadata": {},
   "outputs": [
    {
     "data": {
      "text/plain": [
       "(80000, 28)"
      ]
     },
     "execution_count": 39,
     "metadata": {},
     "output_type": "execute_result"
    }
   ],
   "source": [
    "X_train_sampled.shape"
   ]
  },
  {
   "cell_type": "code",
   "execution_count": 40,
   "metadata": {},
   "outputs": [
    {
     "name": "stdout",
     "output_type": "stream",
     "text": [
      "[LibSVM][LibSVM][LibSVM][LibSVM][LibSVM]"
     ]
    },
    {
     "name": "stderr",
     "output_type": "stream",
     "text": [
      "/home/G20980/back_grid/notebooks/venv_grid/lib/python3.6/site-packages/sklearn/ensemble/_bagging.py:638: UserWarning: Some inputs do not have OOB scores. This probably means too few estimators were used to compute any reliable oob estimates.\n",
      "  warn(\"Some inputs do not have OOB scores. \"\n",
      "/home/G20980/back_grid/notebooks/venv_grid/lib/python3.6/site-packages/sklearn/ensemble/_bagging.py:643: RuntimeWarning: invalid value encountered in true_divide\n",
      "  predictions.sum(axis=1)[:, np.newaxis])\n"
     ]
    },
    {
     "data": {
      "text/plain": [
       "BaggingClassifier(base_estimator=OneClassSVM(verbose=True), n_estimators=5,\n",
       "                  oob_score=True, random_state=90)"
      ]
     },
     "execution_count": 40,
     "metadata": {},
     "output_type": "execute_result"
    }
   ],
   "source": [
    "OSVM = BaggingClassifier(OneClassSVM(verbose=True), n_estimators = 5, oob_score = True, random_state = 90)\n",
    "OSVM.fit(X_train_sampled, y_train_sampled.values.ravel())"
   ]
  },
  {
   "cell_type": "code",
   "execution_count": 41,
   "metadata": {},
   "outputs": [],
   "source": [
    "predicted = OSVM.predict(X_test_sampled)"
   ]
  },
  {
   "cell_type": "code",
   "execution_count": 42,
   "metadata": {},
   "outputs": [
    {
     "name": "stdout",
     "output_type": "stream",
     "text": [
      "0.9977\n"
     ]
    },
    {
     "data": {
      "image/png": "[encoded data removed]",
      "text/plain": [
       "<Figure size 1080x720 with 2 Axes>"
      ]
     },
     "metadata": {
      "needs_background": "light"
     },
     "output_type": "display_data"
    }
   ],
   "source": [
    "score = accuracy_score(y_test_sampled, predicted)\n",
    "print(score)\n",
    "conf_mat = confusion_matrix(y_test_sampled, predicted)\n",
    "labels = ['-1','1']\n",
    "fig,ax = plt.subplots(figsize=(15,10))\n",
    "sns.heatmap(conf_mat, annot=True, cmap=\"Set3\", fmt=\"d\", xticklabels = labels, yticklabels = labels)\n",
    "plt.ylabel('Vraie valeur')\n",
    "plt.xlabel('Predite')\n",
    "plt.title('Matrice de confusion')\n",
    "plt.show()"
   ]
  },
  {
   "cell_type": "code",
   "execution_count": 43,
   "metadata": {},
   "outputs": [],
   "source": [
    "OSVM_FP=conf_mat[1][0]/sum(conf_mat[1])*100\n",
    "OSVM_FN=conf_mat[0][1]/sum(conf_mat[0])*100"
   ]
  },
  {
   "cell_type": "markdown",
   "metadata": {},
   "source": [
    "### 1.5 Random Forest \n",
    "\n",
    "Une forêt aléatoire est un méta estimateur qui ajuste un certain nombre de classificateurs d'arbres de décision sur divers sous-échantillons de l'ensemble de données et utilise la moyenne pour améliorer la précision prédictive et contrôler le surajustement."
   ]
  },
  {
   "cell_type": "code",
   "execution_count": 18,
   "metadata": {},
   "outputs": [],
   "source": [
    "clf=RandomForestClassifier()\n",
    "clf.fit(X_train, y_train.values.ravel())\n",
    "predicted = clf.predict(X_test)\n",
    "score = accuracy_score(y_test, predicted)"
   ]
  },
  {
   "cell_type": "code",
   "execution_count": 19,
   "metadata": {},
   "outputs": [
    {
     "data": {
      "text/plain": [
       "0.9995770627004547"
      ]
     },
     "execution_count": 19,
     "metadata": {},
     "output_type": "execute_result"
    }
   ],
   "source": [
    "score"
   ]
  },
  {
   "cell_type": "code",
   "execution_count": 20,
   "metadata": {},
   "outputs": [
    {
     "data": {
      "image/png": "[encoded data removed]",
      "text/plain": [
       "<Figure size 1080x720 with 2 Axes>"
      ]
     },
     "metadata": {
      "needs_background": "light"
     },
     "output_type": "display_data"
    }
   ],
   "source": [
    "conf_mat = confusion_matrix(y_test, predicted)\n",
    "labels = ['0','1']\n",
    "fig,ax = plt.subplots(figsize=(15,10))\n",
    "sns.heatmap(conf_mat, annot=True, cmap=\"Set3\", fmt=\"d\", xticklabels = labels, yticklabels = labels)\n",
    "plt.ylabel('Vraie valeur')\n",
    "plt.xlabel('Predite')\n",
    "plt.title('Matrice de confusion')\n",
    "plt.show()"
   ]
  },
  {
   "cell_type": "code",
   "execution_count": 21,
   "metadata": {},
   "outputs": [],
   "source": [
    "RF_FN=conf_mat[1][0]/sum(conf_mat[1])*100\n",
    "RF_FP=conf_mat[0][1]/sum(conf_mat[0])*100"
   ]
  },
  {
   "cell_type": "markdown",
   "metadata": {},
   "source": [
    "### 1.6  ExtraTreesClassifier\n",
    "\n",
    "L'extra tree classifier met en œuvre un méta estimateur qui ajuste un certain nombre d'arbres de décision randomisés (alias extra-arbres) sur divers sous-échantillons de l'ensemble de données et utilise la moyenne pour améliorer la précision prédictive et contrôler le surajustement."
   ]
  },
  {
   "cell_type": "code",
   "execution_count": 22,
   "metadata": {},
   "outputs": [],
   "source": [
    "clf = ExtraTreesClassifier()\n",
    "clf.fit(X_train, y_train.values.ravel())\n",
    "predicted = clf.predict(X_test)\n",
    "score = accuracy_score(y_test, predicted)"
   ]
  },
  {
   "cell_type": "code",
   "execution_count": 23,
   "metadata": {},
   "outputs": [
    {
     "data": {
      "text/plain": [
       "0.9995241955380115"
      ]
     },
     "execution_count": 23,
     "metadata": {},
     "output_type": "execute_result"
    }
   ],
   "source": [
    "score"
   ]
  },
  {
   "cell_type": "code",
   "execution_count": 24,
   "metadata": {},
   "outputs": [
    {
     "data": {
      "image/png": "[encoded data removed]",
      "text/plain": [
       "<Figure size 1080x720 with 2 Axes>"
      ]
     },
     "metadata": {
      "needs_background": "light"
     },
     "output_type": "display_data"
    }
   ],
   "source": [
    "conf_mat = confusion_matrix(y_test, predicted)\n",
    "labels = ['0','1']\n",
    "fig,ax = plt.subplots(figsize=(15,10))\n",
    "sns.heatmap(conf_mat, annot=True, cmap=\"Set3\", fmt=\"d\", xticklabels = labels, yticklabels = labels)\n",
    "plt.ylabel('Vraie valeur')\n",
    "plt.xlabel('Predite')\n",
    "plt.title('Matrice de confusion')\n",
    "plt.show()"
   ]
  },
  {
   "cell_type": "code",
   "execution_count": 25,
   "metadata": {},
   "outputs": [],
   "source": [
    "ETC_FN=conf_mat[1][0]/sum(conf_mat[1])*100\n",
    "ETC_FP=conf_mat[0][1]/sum(conf_mat[0])*100"
   ]
  },
  {
   "cell_type": "markdown",
   "metadata": {},
   "source": [
    "## 2. Modèles de Boosting"
   ]
  },
  {
   "cell_type": "markdown",
   "metadata": {},
   "source": [
    "### 2.1 AdaBoostClassifier\n",
    "\n",
    "\n",
    "Un classificateur AdaBoost est un méta-estimateur qui commence par adapter un classificateur à l'ensemble de données d'origine, puis adapte des copies supplémentaires du classificateur au même ensemble de données, mais où les poids des cas mal classés sont ajustés de telle sorte que les classificateurs suivants se concentrent davantage sur les cas difficiles."
   ]
  },
  {
   "cell_type": "code",
   "execution_count": 44,
   "metadata": {},
   "outputs": [],
   "source": [
    "clf = AdaBoostClassifier()\n",
    "clf.fit(X_train, y_train.values.ravel())\n",
    "predicted = clf.predict(X_test)\n",
    "score = accuracy_score(y_test, predicted)"
   ]
  },
  {
   "cell_type": "code",
   "execution_count": 45,
   "metadata": {},
   "outputs": [
    {
     "data": {
      "text/plain": [
       "0.9991012582384662"
      ]
     },
     "execution_count": 45,
     "metadata": {},
     "output_type": "execute_result"
    }
   ],
   "source": [
    "score"
   ]
  },
  {
   "cell_type": "code",
   "execution_count": 46,
   "metadata": {},
   "outputs": [
    {
     "data": {
      "image/png": "[encoded data removed]",
      "text/plain": [
       "<Figure size 1080x720 with 2 Axes>"
      ]
     },
     "metadata": {
      "needs_background": "light"
     },
     "output_type": "display_data"
    }
   ],
   "source": [
    "conf_mat = confusion_matrix(y_test, predicted)\n",
    "labels = ['0','1']\n",
    "fig,ax = plt.subplots(figsize=(15,10))\n",
    "sns.heatmap(conf_mat, annot=True, cmap=\"Set3\", fmt=\"d\", xticklabels = labels, yticklabels = labels)\n",
    "plt.ylabel('Vraie valeur')\n",
    "plt.xlabel('Predite')\n",
    "plt.title('Matrice de confusion')\n",
    "plt.show()"
   ]
  },
  {
   "cell_type": "code",
   "execution_count": 47,
   "metadata": {},
   "outputs": [],
   "source": [
    "ABC_FN=conf_mat[1][0]/sum(conf_mat[1])*100\n",
    "ABC_FP=conf_mat[0][1]/sum(conf_mat[0])*100"
   ]
  },
  {
   "cell_type": "markdown",
   "metadata": {},
   "source": [
    "### 2.2 GradientBoostingClassifier\n",
    "\n",
    "Le modèle Gradient Boosting construit un modèle additif de manière progressive, il permet d'optimiser des fonctions de perte arbitrairement différenciables. À chaque étape, des arbres de régression de n_classes_ sont ajustés sur le gradient négatif de la fonction de perte de déviance binomiale ou multinomiale."
   ]
  },
  {
   "cell_type": "code",
   "execution_count": 48,
   "metadata": {},
   "outputs": [],
   "source": [
    "clf = GradientBoostingClassifier()\n",
    "clf.fit(X_train, y_train.values.ravel())\n",
    "predicted = clf.predict(X_test)\n",
    "score = accuracy_score(y_test, predicted)"
   ]
  },
  {
   "cell_type": "code",
   "execution_count": 49,
   "metadata": {},
   "outputs": [
    {
     "data": {
      "text/plain": [
       "0.9991893701758714"
      ]
     },
     "execution_count": 49,
     "metadata": {},
     "output_type": "execute_result"
    }
   ],
   "source": [
    "score"
   ]
  },
  {
   "cell_type": "code",
   "execution_count": 50,
   "metadata": {},
   "outputs": [
    {
     "data": {
      "image/png": "[encoded data removed]",
      "text/plain": [
       "<Figure size 1080x720 with 2 Axes>"
      ]
     },
     "metadata": {
      "needs_background": "light"
     },
     "output_type": "display_data"
    }
   ],
   "source": [
    "conf_mat = confusion_matrix(y_test, predicted)\n",
    "labels = ['0','1']\n",
    "fig,ax = plt.subplots(figsize=(15,10))\n",
    "sns.heatmap(conf_mat, annot=True, cmap=\"Set3\", fmt=\"d\", xticklabels = labels, yticklabels = labels)\n",
    "plt.ylabel('Vraie valeur')\n",
    "plt.xlabel('Predite')\n",
    "plt.title('Matrice de confusion')\n",
    "plt.show()"
   ]
  },
  {
   "cell_type": "code",
   "execution_count": 51,
   "metadata": {},
   "outputs": [],
   "source": [
    "GBC_FN=conf_mat[1][0]/sum(conf_mat[1])*100\n",
    "GBC_FP=conf_mat[0][1]/sum(conf_mat[0])*100"
   ]
  },
  {
   "cell_type": "markdown",
   "metadata": {},
   "source": [
    "## Comparaison"
   ]
  },
  {
   "cell_type": "code",
   "execution_count": 52,
   "metadata": {},
   "outputs": [
    {
     "data": {
      "text/plain": [
       "[Text(0, 0, 'Bagging'),\n",
       " Text(1, 0, 'RandomForest  '),\n",
       " Text(2, 0, 'Extra Trees'),\n",
       " Text(3, 0, 'AdaBoost  '),\n",
       " Text(4, 0, 'GradientBoosting'),\n",
       " Text(5, 0, 'LogisticRegression'),\n",
       " Text(6, 0, 'Gaussian NaïveBayes'),\n",
       " Text(7, 0, 'OneClass SVM')]"
      ]
     },
     "execution_count": 52,
     "metadata": {},
     "output_type": "execute_result"
    },
    {
     "data": {
      "image/png": "[encoded data removed]",
      "text/plain": [
       "<Figure size 1440x360 with 1 Axes>"
      ]
     },
     "metadata": {
      "needs_background": "light"
     },
     "output_type": "display_data"
    }
   ],
   "source": [
    "modèles = ['Bagging','RandomForest  ','Extra Trees','AdaBoost  ','GradientBoosting','LogisticRegression', 'Gaussian NaïveBayes', 'OneClass SVM']\n",
    "FN = [Bgcla_FN,RF_FN,ETC_FN,ABC_FN,GBC_FN,RL_FN,GNB_FN,OSVM_FN]\n",
    "FP = [Bgcla_FP,RF_FP,ETC_FP,ABC_FP,GBC_FP,RL_FP,GNB_FP,OSVM_FP]\n",
    "# Position sur l'axe des x pour chaque étiquette\n",
    "position = np.arange(len(modèles))\n",
    "# Largeur des barres\n",
    "largeur = .35\n",
    "\n",
    "# Création de la figure et d'un set de sous-graphiques\n",
    "fig, ax = plt.subplots(figsize=(20, 5))\n",
    "r1 = ax.bar(position - largeur/2, FN, largeur)\n",
    "r2 = ax.bar(position + largeur/2, FP, largeur)\n",
    "\n",
    "# Modification des marques sur l'axe des x et de leurs étiquettes\n",
    "ax.set_xticks(position)\n",
    "ax.set_xticklabels(modèles)"
   ]
  },
  {
   "cell_type": "code",
   "execution_count": 53,
   "metadata": {},
   "outputs": [
    {
     "data": {
      "image/png": "[encoded data removed]",
      "text/plain": [
       "<Figure size 432x288 with 1 Axes>"
      ]
     },
     "metadata": {
      "needs_background": "light"
     },
     "output_type": "display_data"
    }
   ],
   "source": [
    "fig = plt.figure()\n",
    "\n",
    "x = [1,2,3,4,5,6,7,8]\n",
    "height1 = [Bgcla_FN,RF_FN,ETC_FN,ABC_FN,GBC_FN,RL_FN,GNB_FN,OSVM_FN]\n",
    "height2 = [Bgcla_FP,Bgcla_FP,ETC_FP,ABC_FP,GBC_FP,RL_FP,GNB_FP,OSVM_FP]\n",
    "width = 0.5\n",
    "BarName = ['Bagging Classifier','RandomForest','Extra Trees','AdaBoost','GradientBoosting','LogisticRegression', 'Gaussian NaïveBayes','OneClass SVM']\n",
    "\n",
    "plt.bar(x, height1, width,color='b' )\n",
    "plt.bar(x, height2, width,color='b' )\n",
    "#plt.scatter([i+width/2.0 for i in x],height,s=40)\n",
    "\n",
    "#plt.xlim(0,6)\n",
    "#plt.ylim(0,100)\n",
    "#plt.grid()\n",
    "\n",
    "plt.ylabel('Pourcentage de faux négatifs %')\n",
    "plt.title('Pourcentage de faux négatifs par modèle')\n",
    "\n",
    "pylab.xticks(x, BarName, rotation=40)\n",
    "\n",
    "plt.savefig('SimpleBar.png')\n",
    "plt.show()"
   ]
  },
  {
   "cell_type": "markdown",
   "metadata": {},
   "source": [
    "# 2 - Application des modèles sur des données sous-échantilloné (under-sampling)"
   ]
  },
  {
   "cell_type": "code",
   "execution_count": 54,
   "metadata": {},
   "outputs": [],
   "source": [
    "rus = RandomUnderSampler()\n",
    "X_under_sampled, y_under_sampled = rus.fit_resample(train, y)"
   ]
  },
  {
   "cell_type": "code",
   "execution_count": 55,
   "metadata": {},
   "outputs": [
    {
     "data": {
      "text/plain": [
       "(283726, 28)"
      ]
     },
     "execution_count": 55,
     "metadata": {},
     "output_type": "execute_result"
    }
   ],
   "source": [
    "train.shape"
   ]
  },
  {
   "cell_type": "code",
   "execution_count": 56,
   "metadata": {},
   "outputs": [
    {
     "data": {
      "text/plain": [
       "(283726, 1)"
      ]
     },
     "execution_count": 56,
     "metadata": {},
     "output_type": "execute_result"
    }
   ],
   "source": [
    "y.shape"
   ]
  },
  {
   "cell_type": "code",
   "execution_count": 57,
   "metadata": {},
   "outputs": [
    {
     "data": {
      "text/html": [
       "<div>\n",
       "<style scoped>\n",
       "    .dataframe tbody tr th:only-of-type {\n",
       "        vertical-align: middle;\n",
       "    }\n",
       "\n",
       "    .dataframe tbody tr th {\n",
       "        vertical-align: top;\n",
       "    }\n",
       "\n",
       "    .dataframe thead th {\n",
       "        text-align: right;\n",
       "    }\n",
       "</style>\n",
       "<table border=\"1\" class=\"dataframe\">\n",
       "  <thead>\n",
       "    <tr style=\"text-align: right;\">\n",
       "      <th></th>\n",
       "      <th>V1</th>\n",
       "      <th>V2</th>\n",
       "      <th>V3</th>\n",
       "      <th>V4</th>\n",
       "      <th>V5</th>\n",
       "      <th>V6</th>\n",
       "      <th>V7</th>\n",
       "      <th>V8</th>\n",
       "      <th>V9</th>\n",
       "      <th>V10</th>\n",
       "      <th>V11</th>\n",
       "      <th>V12</th>\n",
       "      <th>V13</th>\n",
       "      <th>V14</th>\n",
       "      <th>V15</th>\n",
       "      <th>V16</th>\n",
       "      <th>V17</th>\n",
       "      <th>V18</th>\n",
       "      <th>V19</th>\n",
       "      <th>V20</th>\n",
       "      <th>V21</th>\n",
       "      <th>V22</th>\n",
       "      <th>V23</th>\n",
       "      <th>V24</th>\n",
       "      <th>V25</th>\n",
       "      <th>V26</th>\n",
       "      <th>V27</th>\n",
       "      <th>V28</th>\n",
       "    </tr>\n",
       "  </thead>\n",
       "  <tbody>\n",
       "    <tr>\n",
       "      <th>143</th>\n",
       "      <td>1.966324</td>\n",
       "      <td>-0.445337</td>\n",
       "      <td>-0.422202</td>\n",
       "      <td>-0.049476</td>\n",
       "      <td>-0.482471</td>\n",
       "      <td>-0.018006</td>\n",
       "      <td>-0.694890</td>\n",
       "      <td>0.192866</td>\n",
       "      <td>1.123797</td>\n",
       "      <td>-0.038581</td>\n",
       "      <td>0.899893</td>\n",
       "      <td>0.950397</td>\n",
       "      <td>-0.437013</td>\n",
       "      <td>0.222879</td>\n",
       "      <td>0.119266</td>\n",
       "      <td>0.390863</td>\n",
       "      <td>-0.682781</td>\n",
       "      <td>0.215134</td>\n",
       "      <td>0.256025</td>\n",
       "      <td>-0.217164</td>\n",
       "      <td>-0.148751</td>\n",
       "      <td>-0.357669</td>\n",
       "      <td>0.432182</td>\n",
       "      <td>0.664447</td>\n",
       "      <td>-0.545301</td>\n",
       "      <td>-0.332089</td>\n",
       "      <td>0.001813</td>\n",
       "      <td>-0.041297</td>\n",
       "    </tr>\n",
       "    <tr>\n",
       "      <th>846</th>\n",
       "      <td>1.862102</td>\n",
       "      <td>-0.124052</td>\n",
       "      <td>-1.989752</td>\n",
       "      <td>0.382609</td>\n",
       "      <td>0.473032</td>\n",
       "      <td>-0.674517</td>\n",
       "      <td>0.298621</td>\n",
       "      <td>-0.282416</td>\n",
       "      <td>0.802053</td>\n",
       "      <td>-0.989431</td>\n",
       "      <td>-0.491112</td>\n",
       "      <td>0.903819</td>\n",
       "      <td>1.366524</td>\n",
       "      <td>-1.886162</td>\n",
       "      <td>-0.194861</td>\n",
       "      <td>0.086837</td>\n",
       "      <td>0.978546</td>\n",
       "      <td>0.055604</td>\n",
       "      <td>0.189131</td>\n",
       "      <td>0.150727</td>\n",
       "      <td>-0.204158</td>\n",
       "      <td>-0.511441</td>\n",
       "      <td>0.077874</td>\n",
       "      <td>0.388335</td>\n",
       "      <td>0.007896</td>\n",
       "      <td>-0.120980</td>\n",
       "      <td>-0.019579</td>\n",
       "      <td>0.006155</td>\n",
       "    </tr>\n",
       "    <tr>\n",
       "      <th>721</th>\n",
       "      <td>1.082566</td>\n",
       "      <td>1.094862</td>\n",
       "      <td>-1.367020</td>\n",
       "      <td>2.012554</td>\n",
       "      <td>0.708142</td>\n",
       "      <td>-0.807712</td>\n",
       "      <td>0.151952</td>\n",
       "      <td>0.158353</td>\n",
       "      <td>0.009872</td>\n",
       "      <td>-1.925278</td>\n",
       "      <td>2.605937</td>\n",
       "      <td>-0.309219</td>\n",
       "      <td>-1.767549</td>\n",
       "      <td>-4.429195</td>\n",
       "      <td>-0.171940</td>\n",
       "      <td>1.055514</td>\n",
       "      <td>3.970587</td>\n",
       "      <td>1.762249</td>\n",
       "      <td>-0.880812</td>\n",
       "      <td>-0.135789</td>\n",
       "      <td>-0.325284</td>\n",
       "      <td>-0.734344</td>\n",
       "      <td>-0.106725</td>\n",
       "      <td>-0.224999</td>\n",
       "      <td>0.569167</td>\n",
       "      <td>-0.335033</td>\n",
       "      <td>0.089140</td>\n",
       "      <td>0.112337</td>\n",
       "    </tr>\n",
       "    <tr>\n",
       "      <th>116</th>\n",
       "      <td>-0.286363</td>\n",
       "      <td>0.853433</td>\n",
       "      <td>-0.304236</td>\n",
       "      <td>-1.114282</td>\n",
       "      <td>2.539486</td>\n",
       "      <td>3.271654</td>\n",
       "      <td>0.122745</td>\n",
       "      <td>0.934263</td>\n",
       "      <td>-0.504529</td>\n",
       "      <td>-0.447100</td>\n",
       "      <td>-0.010366</td>\n",
       "      <td>-0.332826</td>\n",
       "      <td>-0.078910</td>\n",
       "      <td>-0.258235</td>\n",
       "      <td>1.097898</td>\n",
       "      <td>0.715871</td>\n",
       "      <td>-0.482640</td>\n",
       "      <td>0.324772</td>\n",
       "      <td>0.282196</td>\n",
       "      <td>0.228748</td>\n",
       "      <td>-0.318523</td>\n",
       "      <td>-1.006167</td>\n",
       "      <td>-0.048094</td>\n",
       "      <td>0.935447</td>\n",
       "      <td>-0.006223</td>\n",
       "      <td>0.088024</td>\n",
       "      <td>0.246916</td>\n",
       "      <td>0.091139</td>\n",
       "    </tr>\n",
       "    <tr>\n",
       "      <th>852</th>\n",
       "      <td>-3.975939</td>\n",
       "      <td>-1.244939</td>\n",
       "      <td>-3.707414</td>\n",
       "      <td>4.544772</td>\n",
       "      <td>4.050676</td>\n",
       "      <td>-3.407679</td>\n",
       "      <td>-5.063118</td>\n",
       "      <td>1.007042</td>\n",
       "      <td>-3.190158</td>\n",
       "      <td>-4.250717</td>\n",
       "      <td>4.182162</td>\n",
       "      <td>-4.563675</td>\n",
       "      <td>1.182503</td>\n",
       "      <td>-6.964972</td>\n",
       "      <td>1.115340</td>\n",
       "      <td>-4.997332</td>\n",
       "      <td>-6.419539</td>\n",
       "      <td>-1.183593</td>\n",
       "      <td>3.569733</td>\n",
       "      <td>2.109403</td>\n",
       "      <td>1.059737</td>\n",
       "      <td>-0.037395</td>\n",
       "      <td>0.348707</td>\n",
       "      <td>-0.162929</td>\n",
       "      <td>0.410531</td>\n",
       "      <td>-0.123612</td>\n",
       "      <td>0.877424</td>\n",
       "      <td>0.667568</td>\n",
       "    </tr>\n",
       "  </tbody>\n",
       "</table>\n",
       "</div>"
      ],
      "text/plain": [
       "           V1        V2        V3        V4        V5        V6        V7  \\\n",
       "143  1.966324 -0.445337 -0.422202 -0.049476 -0.482471 -0.018006 -0.694890   \n",
       "846  1.862102 -0.124052 -1.989752  0.382609  0.473032 -0.674517  0.298621   \n",
       "721  1.082566  1.094862 -1.367020  2.012554  0.708142 -0.807712  0.151952   \n",
       "116 -0.286363  0.853433 -0.304236 -1.114282  2.539486  3.271654  0.122745   \n",
       "852 -3.975939 -1.244939 -3.707414  4.544772  4.050676 -3.407679 -5.063118   \n",
       "\n",
       "           V8        V9       V10       V11       V12       V13       V14  \\\n",
       "143  0.192866  1.123797 -0.038581  0.899893  0.950397 -0.437013  0.222879   \n",
       "846 -0.282416  0.802053 -0.989431 -0.491112  0.903819  1.366524 -1.886162   \n",
       "721  0.158353  0.009872 -1.925278  2.605937 -0.309219 -1.767549 -4.429195   \n",
       "116  0.934263 -0.504529 -0.447100 -0.010366 -0.332826 -0.078910 -0.258235   \n",
       "852  1.007042 -3.190158 -4.250717  4.182162 -4.563675  1.182503 -6.964972   \n",
       "\n",
       "          V15       V16       V17       V18       V19       V20       V21  \\\n",
       "143  0.119266  0.390863 -0.682781  0.215134  0.256025 -0.217164 -0.148751   \n",
       "846 -0.194861  0.086837  0.978546  0.055604  0.189131  0.150727 -0.204158   \n",
       "721 -0.171940  1.055514  3.970587  1.762249 -0.880812 -0.135789 -0.325284   \n",
       "116  1.097898  0.715871 -0.482640  0.324772  0.282196  0.228748 -0.318523   \n",
       "852  1.115340 -4.997332 -6.419539 -1.183593  3.569733  2.109403  1.059737   \n",
       "\n",
       "          V22       V23       V24       V25       V26       V27       V28  \n",
       "143 -0.357669  0.432182  0.664447 -0.545301 -0.332089  0.001813 -0.041297  \n",
       "846 -0.511441  0.077874  0.388335  0.007896 -0.120980 -0.019579  0.006155  \n",
       "721 -0.734344 -0.106725 -0.224999  0.569167 -0.335033  0.089140  0.112337  \n",
       "116 -1.006167 -0.048094  0.935447 -0.006223  0.088024  0.246916  0.091139  \n",
       "852 -0.037395  0.348707 -0.162929  0.410531 -0.123612  0.877424  0.667568  "
      ]
     },
     "execution_count": 57,
     "metadata": {},
     "output_type": "execute_result"
    }
   ],
   "source": [
    "X_under_sampled.sample(5)"
   ]
  },
  {
   "cell_type": "code",
   "execution_count": 58,
   "metadata": {},
   "outputs": [
    {
     "data": {
      "text/plain": [
       "946"
      ]
     },
     "execution_count": 58,
     "metadata": {},
     "output_type": "execute_result"
    }
   ],
   "source": [
    "len(X_under_sampled) "
   ]
  },
  {
   "cell_type": "code",
   "execution_count": 59,
   "metadata": {},
   "outputs": [
    {
     "data": {
      "image/png": "[encoded data removed]",
      "text/plain": [
       "<Figure size 432x288 with 1 Axes>"
      ]
     },
     "metadata": {
      "needs_background": "light"
     },
     "output_type": "display_data"
    }
   ],
   "source": [
    "sns.countplot('Class', data= y_under_sampled)\n",
    "plt.title('Distribution des classes après sous-échantillonage', fontsize=14)\n",
    "plt.show()"
   ]
  },
  {
   "cell_type": "code",
   "execution_count": 60,
   "metadata": {},
   "outputs": [
    {
     "data": {
      "text/html": [
       "<div>\n",
       "<style scoped>\n",
       "    .dataframe tbody tr th:only-of-type {\n",
       "        vertical-align: middle;\n",
       "    }\n",
       "\n",
       "    .dataframe tbody tr th {\n",
       "        vertical-align: top;\n",
       "    }\n",
       "\n",
       "    .dataframe thead th {\n",
       "        text-align: right;\n",
       "    }\n",
       "</style>\n",
       "<table border=\"1\" class=\"dataframe\">\n",
       "  <thead>\n",
       "    <tr style=\"text-align: right;\">\n",
       "      <th></th>\n",
       "      <th>Class</th>\n",
       "    </tr>\n",
       "  </thead>\n",
       "  <tbody>\n",
       "    <tr>\n",
       "      <th>0</th>\n",
       "      <td>0</td>\n",
       "    </tr>\n",
       "    <tr>\n",
       "      <th>1</th>\n",
       "      <td>0</td>\n",
       "    </tr>\n",
       "    <tr>\n",
       "      <th>2</th>\n",
       "      <td>0</td>\n",
       "    </tr>\n",
       "    <tr>\n",
       "      <th>3</th>\n",
       "      <td>0</td>\n",
       "    </tr>\n",
       "    <tr>\n",
       "      <th>4</th>\n",
       "      <td>0</td>\n",
       "    </tr>\n",
       "    <tr>\n",
       "      <th>...</th>\n",
       "      <td>...</td>\n",
       "    </tr>\n",
       "    <tr>\n",
       "      <th>941</th>\n",
       "      <td>1</td>\n",
       "    </tr>\n",
       "    <tr>\n",
       "      <th>942</th>\n",
       "      <td>1</td>\n",
       "    </tr>\n",
       "    <tr>\n",
       "      <th>943</th>\n",
       "      <td>1</td>\n",
       "    </tr>\n",
       "    <tr>\n",
       "      <th>944</th>\n",
       "      <td>1</td>\n",
       "    </tr>\n",
       "    <tr>\n",
       "      <th>945</th>\n",
       "      <td>1</td>\n",
       "    </tr>\n",
       "  </tbody>\n",
       "</table>\n",
       "<p>946 rows × 1 columns</p>\n",
       "</div>"
      ],
      "text/plain": [
       "     Class\n",
       "0        0\n",
       "1        0\n",
       "2        0\n",
       "3        0\n",
       "4        0\n",
       "..     ...\n",
       "941      1\n",
       "942      1\n",
       "943      1\n",
       "944      1\n",
       "945      1\n",
       "\n",
       "[946 rows x 1 columns]"
      ]
     },
     "execution_count": 60,
     "metadata": {},
     "output_type": "execute_result"
    }
   ],
   "source": [
    "y_under_sampled"
   ]
  },
  {
   "cell_type": "code",
   "execution_count": 61,
   "metadata": {},
   "outputs": [],
   "source": [
    "X_train, X_test, y_train, y_test = train_test_split(X_under_sampled, y_under_sampled, test_size=0.2, random_state=0)"
   ]
  },
  {
   "cell_type": "code",
   "execution_count": 62,
   "metadata": {},
   "outputs": [
    {
     "data": {
      "text/plain": [
       "(756, 28)"
      ]
     },
     "execution_count": 62,
     "metadata": {},
     "output_type": "execute_result"
    }
   ],
   "source": [
    "X_train.shape"
   ]
  },
  {
   "cell_type": "code",
   "execution_count": 63,
   "metadata": {},
   "outputs": [
    {
     "data": {
      "text/plain": [
       "(190, 28)"
      ]
     },
     "execution_count": 63,
     "metadata": {},
     "output_type": "execute_result"
    }
   ],
   "source": [
    "X_test.shape"
   ]
  },
  {
   "cell_type": "markdown",
   "metadata": {},
   "source": [
    "## 1. Modèles de Bagging"
   ]
  },
  {
   "cell_type": "markdown",
   "metadata": {},
   "source": [
    "### 1.1 BaggingClassifier"
   ]
  },
  {
   "cell_type": "code",
   "execution_count": 76,
   "metadata": {},
   "outputs": [],
   "source": [
    "clf = BaggingClassifier()\n",
    "clf.fit(X_train, y_train.values.ravel())\n",
    "predicted = clf.predict(X_test)\n",
    "score = accuracy_score(y_test, predicted)"
   ]
  },
  {
   "cell_type": "code",
   "execution_count": 77,
   "metadata": {},
   "outputs": [
    {
     "data": {
      "text/plain": [
       "0.9263157894736842"
      ]
     },
     "execution_count": 77,
     "metadata": {},
     "output_type": "execute_result"
    }
   ],
   "source": [
    "score"
   ]
  },
  {
   "cell_type": "code",
   "execution_count": 78,
   "metadata": {},
   "outputs": [
    {
     "data": {
      "image/png": "[encoded data removed]",
      "text/plain": [
       "<Figure size 1080x720 with 2 Axes>"
      ]
     },
     "metadata": {
      "needs_background": "light"
     },
     "output_type": "display_data"
    }
   ],
   "source": [
    "conf_mat = confusion_matrix(y_test, predicted)\n",
    "labels = ['0','1']\n",
    "fig,ax = plt.subplots(figsize=(15,10))\n",
    "sns.heatmap(conf_mat, annot=True, cmap=\"Set3\", fmt=\"d\", xticklabels = labels, yticklabels = labels)\n",
    "plt.ylabel('Vraie valeur')\n",
    "plt.xlabel('Predite')\n",
    "plt.title('Matrice de confusion')\n",
    "plt.show()"
   ]
  },
  {
   "cell_type": "code",
   "execution_count": 79,
   "metadata": {},
   "outputs": [],
   "source": [
    "Bgcla_FN2=conf_mat[1][0]/sum(conf_mat[1])*100\n",
    "Bgcla_FP2=conf_mat[0][1]/sum(conf_mat[0])*100"
   ]
  },
  {
   "cell_type": "markdown",
   "metadata": {},
   "source": [
    "### 1.2 Logistic Regression"
   ]
  },
  {
   "cell_type": "code",
   "execution_count": 64,
   "metadata": {},
   "outputs": [
    {
     "name": "stdout",
     "output_type": "stream",
     "text": [
      "0.9315789473684211\n"
     ]
    }
   ],
   "source": [
    "logbagClf = BaggingClassifier(LogisticRegression(random_state=0, solver='lbfgs'), n_estimators = 400, oob_score = True, random_state = 90)\n",
    "logbagClf.fit(X_train, y_train.values.ravel())\n",
    "predicted = logbagClf.predict(X_test)\n",
    "score = accuracy_score(y_test, predicted)\n",
    "print(score)"
   ]
  },
  {
   "cell_type": "code",
   "execution_count": 65,
   "metadata": {},
   "outputs": [
    {
     "data": {
      "image/png": "[encoded data removed]",
      "text/plain": [
       "<Figure size 1080x720 with 2 Axes>"
      ]
     },
     "metadata": {
      "needs_background": "light"
     },
     "output_type": "display_data"
    }
   ],
   "source": [
    "conf_mat = confusion_matrix(y_test, predicted)\n",
    "labels = ['0','1']\n",
    "fig,ax = plt.subplots(figsize=(15,10))\n",
    "sns.heatmap(conf_mat, annot=True, cmap=\"Set3\", fmt=\"d\", xticklabels = labels, yticklabels = labels)\n",
    "plt.ylabel('Vraie valeur')\n",
    "plt.xlabel('Predite')\n",
    "plt.title('Matrice de confusion')\n",
    "plt.show()"
   ]
  },
  {
   "cell_type": "code",
   "execution_count": 66,
   "metadata": {},
   "outputs": [],
   "source": [
    "RL_FN2=conf_mat[1][0]/sum(conf_mat[1])*100\n",
    "RL_FP2=conf_mat[0][1]/sum(conf_mat[0])*100"
   ]
  },
  {
   "cell_type": "markdown",
   "metadata": {},
   "source": [
    "### 1.3 Gaussian Naives Bayes"
   ]
  },
  {
   "cell_type": "code",
   "execution_count": 67,
   "metadata": {},
   "outputs": [
    {
     "name": "stdout",
     "output_type": "stream",
     "text": [
      "0.9157894736842105\n"
     ]
    }
   ],
   "source": [
    "GNBbagClf = BaggingClassifier(GaussianNB(), n_estimators = 400, oob_score = True, random_state = 90)\n",
    "GNBbagClf.fit(X_train, y_train.values.ravel())\n",
    "predicted = GNBbagClf.predict(X_test)\n",
    "score = accuracy_score(y_test, predicted)\n",
    "print(score)"
   ]
  },
  {
   "cell_type": "code",
   "execution_count": 68,
   "metadata": {},
   "outputs": [
    {
     "data": {
      "image/png": "[encoded data removed]",
      "text/plain": [
       "<Figure size 1080x720 with 2 Axes>"
      ]
     },
     "metadata": {
      "needs_background": "light"
     },
     "output_type": "display_data"
    }
   ],
   "source": [
    "conf_mat = confusion_matrix(y_test, predicted)\n",
    "labels = ['0','1']\n",
    "fig,ax = plt.subplots(figsize=(15,10))\n",
    "sns.heatmap(conf_mat, annot=True, cmap=\"Set3\", fmt=\"d\", xticklabels = labels, yticklabels = labels)\n",
    "plt.ylabel('Vraie valeur')\n",
    "plt.xlabel('Predite')\n",
    "plt.title('Matrice de confusion')\n",
    "plt.show()"
   ]
  },
  {
   "cell_type": "code",
   "execution_count": 69,
   "metadata": {},
   "outputs": [],
   "source": [
    "GNB_FN2=conf_mat[1][0]/sum(conf_mat[1])*100\n",
    "GNB_FP2=conf_mat[0][1]/sum(conf_mat[0])*100"
   ]
  },
  {
   "cell_type": "markdown",
   "metadata": {},
   "source": [
    "### 1.4  One class SVM"
   ]
  },
  {
   "cell_type": "code",
   "execution_count": 70,
   "metadata": {},
   "outputs": [],
   "source": [
    "y_under_train_OCSVM= y_train.copy()\n",
    "y_under_test_OCSVM= y_test.copy()"
   ]
  },
  {
   "cell_type": "code",
   "execution_count": 71,
   "metadata": {},
   "outputs": [],
   "source": [
    "y_under_train_OCSVM.loc[y_under_train_OCSVM['Class'] == 1, \"Class\"] = -1\n",
    "y_under_train_OCSVM.loc[y_under_train_OCSVM['Class'] == 0, \"Class\"] = 1\n",
    "\n",
    "y_under_test_OCSVM.loc[y_under_test_OCSVM['Class'] == 1, \"Class\"] = -1\n",
    "y_under_test_OCSVM.loc[y_under_test_OCSVM['Class'] == 0, \"Class\"] = 1"
   ]
  },
  {
   "cell_type": "code",
   "execution_count": 72,
   "metadata": {},
   "outputs": [
    {
     "name": "stdout",
     "output_type": "stream",
     "text": [
      "[LibSVM][LibSVM][LibSVM][LibSVM][LibSVM]"
     ]
    },
    {
     "name": "stderr",
     "output_type": "stream",
     "text": [
      "/home/G20980/back_grid/notebooks/venv_grid/lib/python3.6/site-packages/sklearn/ensemble/_bagging.py:638: UserWarning: Some inputs do not have OOB scores. This probably means too few estimators were used to compute any reliable oob estimates.\n",
      "  warn(\"Some inputs do not have OOB scores. \"\n",
      "/home/G20980/back_grid/notebooks/venv_grid/lib/python3.6/site-packages/sklearn/ensemble/_bagging.py:643: RuntimeWarning: invalid value encountered in true_divide\n",
      "  predictions.sum(axis=1)[:, np.newaxis])\n"
     ]
    },
    {
     "data": {
      "text/plain": [
       "BaggingClassifier(base_estimator=OneClassSVM(verbose=True), n_estimators=5,\n",
       "                  oob_score=True, random_state=90)"
      ]
     },
     "execution_count": 72,
     "metadata": {},
     "output_type": "execute_result"
    }
   ],
   "source": [
    "OSVM = BaggingClassifier(OneClassSVM(verbose=True), n_estimators = 5, oob_score = True, random_state = 90)\n",
    "OSVM.fit(X_train, y_under_train_OCSVM.values.ravel())"
   ]
  },
  {
   "cell_type": "code",
   "execution_count": 73,
   "metadata": {},
   "outputs": [],
   "source": [
    "predicted = OSVM.predict(X_test)"
   ]
  },
  {
   "cell_type": "code",
   "execution_count": 74,
   "metadata": {},
   "outputs": [
    {
     "name": "stdout",
     "output_type": "stream",
     "text": [
      "0.5\n"
     ]
    },
    {
     "data": {
      "image/png": "[encoded data removed]",
      "text/plain": [
       "<Figure size 1080x720 with 2 Axes>"
      ]
     },
     "metadata": {
      "needs_background": "light"
     },
     "output_type": "display_data"
    }
   ],
   "source": [
    "score = accuracy_score(y_under_test_OCSVM, predicted)\n",
    "print(score)\n",
    "conf_mat = confusion_matrix(y_under_test_OCSVM, predicted)\n",
    "labels = ['-1','1']\n",
    "fig,ax = plt.subplots(figsize=(15,10))\n",
    "sns.heatmap(conf_mat, annot=True, cmap=\"Set3\", fmt=\"d\", xticklabels = labels, yticklabels = labels)\n",
    "plt.ylabel('Vraie valeur')\n",
    "plt.xlabel('Predite')\n",
    "plt.title('Matrice de confusion')\n",
    "plt.show()"
   ]
  },
  {
   "cell_type": "code",
   "execution_count": 75,
   "metadata": {},
   "outputs": [],
   "source": [
    "OSVM_FP2=conf_mat[1][0]/sum(conf_mat[1])*100\n",
    "OSVM_FN2=conf_mat[0][1]/sum(conf_mat[0])*100"
   ]
  },
  {
   "cell_type": "markdown",
   "metadata": {},
   "source": [
    "### 1.5 Random Forest"
   ]
  },
  {
   "cell_type": "code",
   "execution_count": 80,
   "metadata": {},
   "outputs": [],
   "source": [
    "clf=RandomForestClassifier()\n",
    "clf.fit(X_train, y_train.values.ravel())\n",
    "predicted = clf.predict(X_test)\n",
    "score = accuracy_score(y_test, predicted)"
   ]
  },
  {
   "cell_type": "code",
   "execution_count": 81,
   "metadata": {},
   "outputs": [
    {
     "data": {
      "text/plain": [
       "0.9421052631578948"
      ]
     },
     "execution_count": 81,
     "metadata": {},
     "output_type": "execute_result"
    }
   ],
   "source": [
    "score"
   ]
  },
  {
   "cell_type": "code",
   "execution_count": 82,
   "metadata": {},
   "outputs": [
    {
     "data": {
      "image/png": "[encoded data removed]",
      "text/plain": [
       "<Figure size 1080x720 with 2 Axes>"
      ]
     },
     "metadata": {
      "needs_background": "light"
     },
     "output_type": "display_data"
    }
   ],
   "source": [
    "conf_mat = confusion_matrix(y_test, predicted)\n",
    "labels = ['0','1']\n",
    "fig,ax = plt.subplots(figsize=(15,10))\n",
    "sns.heatmap(conf_mat, annot=True, cmap=\"Set3\", fmt=\"d\", xticklabels = labels, yticklabels = labels)\n",
    "plt.ylabel('Vraie valeur')\n",
    "plt.xlabel('Predite')\n",
    "plt.title('Matrice de confusion')\n",
    "plt.show()"
   ]
  },
  {
   "cell_type": "code",
   "execution_count": 83,
   "metadata": {},
   "outputs": [],
   "source": [
    "RF_FN2=conf_mat[1][0]/sum(conf_mat[1])*100\n",
    "RF_FP2=conf_mat[0][1]/sum(conf_mat[0])*100"
   ]
  },
  {
   "cell_type": "markdown",
   "metadata": {},
   "source": [
    "### 1.6 ExtraTreesClassifier"
   ]
  },
  {
   "cell_type": "code",
   "execution_count": 84,
   "metadata": {},
   "outputs": [],
   "source": [
    "clf = ExtraTreesClassifier()\n",
    "clf.fit(X_train, y_train.values.ravel())\n",
    "predicted = clf.predict(X_test)\n",
    "score = accuracy_score(y_test, predicted)"
   ]
  },
  {
   "cell_type": "code",
   "execution_count": 85,
   "metadata": {},
   "outputs": [
    {
     "data": {
      "text/plain": [
       "0.9315789473684211"
      ]
     },
     "execution_count": 85,
     "metadata": {},
     "output_type": "execute_result"
    }
   ],
   "source": [
    "score"
   ]
  },
  {
   "cell_type": "code",
   "execution_count": 86,
   "metadata": {},
   "outputs": [
    {
     "data": {
      "image/png": "[encoded data removed]",
      "text/plain": [
       "<Figure size 1080x720 with 2 Axes>"
      ]
     },
     "metadata": {
      "needs_background": "light"
     },
     "output_type": "display_data"
    }
   ],
   "source": [
    "conf_mat = confusion_matrix(y_test, predicted)\n",
    "labels = ['0','1']\n",
    "fig,ax = plt.subplots(figsize=(15,10))\n",
    "sns.heatmap(conf_mat, annot=True, cmap=\"Set3\", fmt=\"d\", xticklabels = labels, yticklabels = labels)\n",
    "plt.ylabel('Vraie valeur')\n",
    "plt.xlabel('Predite')\n",
    "plt.title('Matrice de confusion')\n",
    "plt.show()"
   ]
  },
  {
   "cell_type": "code",
   "execution_count": 87,
   "metadata": {},
   "outputs": [],
   "source": [
    "ET_FN2=conf_mat[1][0]/sum(conf_mat[1])*100\n",
    "ET_FP2=conf_mat[0][1]/sum(conf_mat[0])*100"
   ]
  },
  {
   "cell_type": "markdown",
   "metadata": {},
   "source": [
    "## 2 Modèles de Boosting"
   ]
  },
  {
   "cell_type": "markdown",
   "metadata": {},
   "source": [
    "### 2.1 AdaBoostClassifier"
   ]
  },
  {
   "cell_type": "code",
   "execution_count": 88,
   "metadata": {},
   "outputs": [],
   "source": [
    "clf = AdaBoostClassifier()\n",
    "clf.fit(X_train, y_train.values.ravel())\n",
    "predicted = clf.predict(X_test)\n",
    "score = accuracy_score(y_test, predicted)"
   ]
  },
  {
   "cell_type": "code",
   "execution_count": 89,
   "metadata": {},
   "outputs": [
    {
     "data": {
      "text/plain": [
       "0.9263157894736842"
      ]
     },
     "execution_count": 89,
     "metadata": {},
     "output_type": "execute_result"
    }
   ],
   "source": [
    "score"
   ]
  },
  {
   "cell_type": "code",
   "execution_count": 90,
   "metadata": {},
   "outputs": [
    {
     "data": {
      "image/png": "[encoded data removed]",
      "text/plain": [
       "<Figure size 1080x720 with 2 Axes>"
      ]
     },
     "metadata": {
      "needs_background": "light"
     },
     "output_type": "display_data"
    }
   ],
   "source": [
    "conf_mat = confusion_matrix(y_test, predicted)\n",
    "labels = ['0','1']\n",
    "fig,ax = plt.subplots(figsize=(15,10))\n",
    "sns.heatmap(conf_mat, annot=True, cmap=\"Set3\", fmt=\"d\", xticklabels = labels, yticklabels = labels)\n",
    "plt.ylabel('Vraie valeur')\n",
    "plt.xlabel('Predite')\n",
    "plt.title('Matrice de confusion')\n",
    "plt.show()"
   ]
  },
  {
   "cell_type": "code",
   "execution_count": 91,
   "metadata": {},
   "outputs": [],
   "source": [
    "AB_FN2=conf_mat[1][0]/sum(conf_mat[1])*100\n",
    "AB_FP2=conf_mat[0][1]/sum(conf_mat[0])*100"
   ]
  },
  {
   "cell_type": "markdown",
   "metadata": {},
   "source": [
    "### 2.2 GradientBoostingClassifier"
   ]
  },
  {
   "cell_type": "code",
   "execution_count": 92,
   "metadata": {},
   "outputs": [],
   "source": [
    "clf = GradientBoostingClassifier()\n",
    "clf.fit(X_train, y_train.values.ravel())\n",
    "predicted = clf.predict(X_test)\n",
    "score = accuracy_score(y_test, predicted)"
   ]
  },
  {
   "cell_type": "code",
   "execution_count": 93,
   "metadata": {},
   "outputs": [
    {
     "data": {
      "text/plain": [
       "0.9263157894736842"
      ]
     },
     "execution_count": 93,
     "metadata": {},
     "output_type": "execute_result"
    }
   ],
   "source": [
    "score"
   ]
  },
  {
   "cell_type": "code",
   "execution_count": 94,
   "metadata": {},
   "outputs": [
    {
     "data": {
      "image/png": "[encoded data removed]",
      "text/plain": [
       "<Figure size 1080x720 with 2 Axes>"
      ]
     },
     "metadata": {
      "needs_background": "light"
     },
     "output_type": "display_data"
    }
   ],
   "source": [
    "conf_mat = confusion_matrix(y_test, predicted)\n",
    "labels = ['0','1']\n",
    "fig,ax = plt.subplots(figsize=(15,10))\n",
    "sns.heatmap(conf_mat, annot=True, cmap=\"Set3\", fmt=\"d\", xticklabels = labels, yticklabels = labels)\n",
    "plt.ylabel('Vraie valeur')\n",
    "plt.xlabel('Predite')\n",
    "plt.title('Matrice de confusion')\n",
    "plt.show()"
   ]
  },
  {
   "cell_type": "code",
   "execution_count": 95,
   "metadata": {},
   "outputs": [],
   "source": [
    "GB_FN2=conf_mat[1][0]/sum(conf_mat[1])*100\n",
    "GB_FP2=conf_mat[0][1]/sum(conf_mat[0])*100"
   ]
  },
  {
   "cell_type": "code",
   "execution_count": 96,
   "metadata": {},
   "outputs": [
    {
     "data": {
      "text/plain": [
       "[Text(0, 0, 'Bagging'),\n",
       " Text(1, 0, 'RandomForest  '),\n",
       " Text(2, 0, 'Extra Trees'),\n",
       " Text(3, 0, 'AdaBoost  '),\n",
       " Text(4, 0, 'GradientBoosting'),\n",
       " Text(5, 0, 'RegressionLogistic'),\n",
       " Text(6, 0, 'Gaussian NaiveBayes'),\n",
       " Text(7, 0, 'OneClass SVM')]"
      ]
     },
     "execution_count": 96,
     "metadata": {},
     "output_type": "execute_result"
    },
    {
     "data": {
      "image/png": "[encoded data removed]",
      "text/plain": [
       "<Figure size 1440x360 with 1 Axes>"
      ]
     },
     "metadata": {
      "needs_background": "light"
     },
     "output_type": "display_data"
    }
   ],
   "source": [
    "modèles = ['Bagging','RandomForest  ','Extra Trees','AdaBoost  ','GradientBoosting','RegressionLogistic','Gaussian NaiveBayes','OneClass SVM']\n",
    "FN = [Bgcla_FN2,RF_FN2,ET_FN2,AB_FN2,GB_FN2,RL_FN2,GNB_FN2,OSVM_FN2]\n",
    "FP = [Bgcla_FP2,RF_FP2,ET_FP2,AB_FP2,GB_FP2,RL_FP2,GNB_FP2,OSVM_FP2]\n",
    "# Position sur l'axe des x pour chaque étiquette\n",
    "position = np.arange(len(modèles))\n",
    "# Largeur des barres\n",
    "largeur = .35\n",
    "\n",
    "# Création de la figure et d'un set de sous-graphiques\n",
    "fig, ax = plt.subplots(figsize=(20, 5))\n",
    "r1 = ax.bar(position - largeur/2, FN, largeur)\n",
    "r2 = ax.bar(position + largeur/2, FP, largeur)\n",
    "\n",
    "# Modification des marques sur l'axe des x et de leurs étiquettes\n",
    "ax.set_xticks(position)\n",
    "ax.set_xticklabels(modèles)"
   ]
  },
  {
   "cell_type": "markdown",
   "metadata": {},
   "source": [
    "# 3 - Application des modèles sur des données sur-échantillonées (over-sampling)"
   ]
  },
  {
   "cell_type": "code",
   "execution_count": 97,
   "metadata": {},
   "outputs": [],
   "source": [
    "rus = RandomOverSampler()\n",
    "X_over_sampled, y_over_sampled = rus.fit_resample(train, y)"
   ]
  },
  {
   "cell_type": "code",
   "execution_count": 98,
   "metadata": {},
   "outputs": [
    {
     "data": {
      "text/plain": [
       "566506"
      ]
     },
     "execution_count": 98,
     "metadata": {},
     "output_type": "execute_result"
    }
   ],
   "source": [
    "len(X_over_sampled) "
   ]
  },
  {
   "cell_type": "code",
   "execution_count": 99,
   "metadata": {},
   "outputs": [
    {
     "data": {
      "image/png": "[encoded data removed]",
      "text/plain": [
       "<Figure size 432x288 with 1 Axes>"
      ]
     },
     "metadata": {
      "needs_background": "light"
     },
     "output_type": "display_data"
    }
   ],
   "source": [
    "sns.countplot('Class', data= y_over_sampled)\n",
    "plt.title('Distribution des classes après sur-échantillonage', fontsize=14)\n",
    "plt.show()"
   ]
  },
  {
   "cell_type": "code",
   "execution_count": 100,
   "metadata": {},
   "outputs": [],
   "source": [
    "X_train, X_test, y_train, y_test = train_test_split(X_over_sampled, y_over_sampled, test_size=0.2, random_state=0)"
   ]
  },
  {
   "cell_type": "markdown",
   "metadata": {},
   "source": [
    "## 1 Modèles de Bagging"
   ]
  },
  {
   "cell_type": "markdown",
   "metadata": {},
   "source": [
    "### 1.1 BaggingClassifier"
   ]
  },
  {
   "cell_type": "code",
   "execution_count": 115,
   "metadata": {},
   "outputs": [],
   "source": [
    "clf = BaggingClassifier()\n",
    "clf.fit(X_train, y_train.values.ravel())\n",
    "predicted = clf.predict(X_test)\n",
    "score = accuracy_score(y_test, predicted)"
   ]
  },
  {
   "cell_type": "code",
   "execution_count": 116,
   "metadata": {},
   "outputs": [
    {
     "data": {
      "text/plain": [
       "0.9998852623960742"
      ]
     },
     "execution_count": 116,
     "metadata": {},
     "output_type": "execute_result"
    }
   ],
   "source": [
    "score"
   ]
  },
  {
   "cell_type": "code",
   "execution_count": 117,
   "metadata": {},
   "outputs": [
    {
     "data": {
      "image/png": "[encoded data removed]",
      "text/plain": [
       "<Figure size 1080x720 with 2 Axes>"
      ]
     },
     "metadata": {
      "needs_background": "light"
     },
     "output_type": "display_data"
    }
   ],
   "source": [
    "conf_mat = confusion_matrix(y_test, predicted)\n",
    "labels = ['0','1']\n",
    "fig,ax = plt.subplots(figsize=(15,10))\n",
    "sns.heatmap(conf_mat, annot=True, cmap=\"Set3\", fmt=\"d\", xticklabels = labels, yticklabels = labels)\n",
    "plt.ylabel('Vraie valeur')\n",
    "plt.xlabel('Predite')\n",
    "plt.title('Matrice de confusion')\n",
    "plt.show()"
   ]
  },
  {
   "cell_type": "code",
   "execution_count": 118,
   "metadata": {},
   "outputs": [],
   "source": [
    "Bgcla_FN3=conf_mat[1][0]/sum(conf_mat[1])*100\n",
    "Bgcla_FP3=conf_mat[0][1]/sum(conf_mat[0])*100"
   ]
  },
  {
   "cell_type": "markdown",
   "metadata": {},
   "source": [
    "### 1.2 Logistic Regression"
   ]
  },
  {
   "cell_type": "code",
   "execution_count": 101,
   "metadata": {},
   "outputs": [
    {
     "name": "stdout",
     "output_type": "stream",
     "text": [
      "0.9453584226227251\n"
     ]
    }
   ],
   "source": [
    "logbagClf = BaggingClassifier(LogisticRegression(random_state=0, solver='lbfgs'), n_estimators = 400, oob_score = True, random_state = 90)\n",
    "logbagClf.fit(X_train, y_train.values.ravel())\n",
    "predicted = logbagClf.predict(X_test)\n",
    "score = accuracy_score(y_test, predicted)\n",
    "print(score)"
   ]
  },
  {
   "cell_type": "code",
   "execution_count": 102,
   "metadata": {},
   "outputs": [
    {
     "data": {
      "image/png": "[encoded data removed]",
      "text/plain": [
       "<Figure size 1080x720 with 2 Axes>"
      ]
     },
     "metadata": {
      "needs_background": "light"
     },
     "output_type": "display_data"
    }
   ],
   "source": [
    "conf_mat = confusion_matrix(y_test, predicted)\n",
    "labels = ['0','1']\n",
    "fig,ax = plt.subplots(figsize=(15,10))\n",
    "sns.heatmap(conf_mat, annot=True, cmap=\"Set3\", fmt=\"d\", xticklabels = labels, yticklabels = labels)\n",
    "plt.ylabel('Vraie valeur')\n",
    "plt.xlabel('Predite')\n",
    "plt.title('Matrice de confusion')\n",
    "plt.show()"
   ]
  },
  {
   "cell_type": "code",
   "execution_count": 103,
   "metadata": {},
   "outputs": [],
   "source": [
    "RL_FN3=conf_mat[1][0]/sum(conf_mat[1])*100\n",
    "RL_FP3=conf_mat[0][1]/sum(conf_mat[0])*100"
   ]
  },
  {
   "cell_type": "markdown",
   "metadata": {},
   "source": [
    "### 1.3 Gaussian Naives Bayes"
   ]
  },
  {
   "cell_type": "code",
   "execution_count": 104,
   "metadata": {},
   "outputs": [
    {
     "name": "stdout",
     "output_type": "stream",
     "text": [
      "0.9126140756562109\n"
     ]
    }
   ],
   "source": [
    "GNBbagClf = BaggingClassifier(GaussianNB(), n_estimators = 400, oob_score = True, random_state = 90)\n",
    "GNBbagClf.fit(X_train, y_train.values.ravel())\n",
    "predicted = GNBbagClf.predict(X_test)\n",
    "score = accuracy_score(y_test, predicted)\n",
    "print(score)"
   ]
  },
  {
   "cell_type": "code",
   "execution_count": 105,
   "metadata": {},
   "outputs": [
    {
     "data": {
      "image/png": "[encoded data removed]",
      "text/plain": [
       "<Figure size 1080x720 with 2 Axes>"
      ]
     },
     "metadata": {
      "needs_background": "light"
     },
     "output_type": "display_data"
    }
   ],
   "source": [
    "conf_mat = confusion_matrix(y_test, predicted)\n",
    "labels = ['0','1']\n",
    "fig,ax = plt.subplots(figsize=(15,10))\n",
    "sns.heatmap(conf_mat, annot=True, cmap=\"Set3\", fmt=\"d\", xticklabels = labels, yticklabels = labels)\n",
    "plt.ylabel('Vraie valeur')\n",
    "plt.xlabel('Predite')\n",
    "plt.title('Matrice de confusion')\n",
    "plt.show()"
   ]
  },
  {
   "cell_type": "code",
   "execution_count": 106,
   "metadata": {},
   "outputs": [],
   "source": [
    "GNB_FN3=conf_mat[1][0]/sum(conf_mat[1])*100\n",
    "GNB_FP3=conf_mat[0][1]/sum(conf_mat[0])*100"
   ]
  },
  {
   "cell_type": "markdown",
   "metadata": {},
   "source": [
    "### 1.4 One class SVM"
   ]
  },
  {
   "cell_type": "code",
   "execution_count": 107,
   "metadata": {},
   "outputs": [],
   "source": [
    "y_train_under_OCSVM = y_train.head(100000).copy()\n",
    "y_test_under_OCSVM = y_test.copy()\n",
    "X_train_under_OCSVM = X_train.head(100000).copy()"
   ]
  },
  {
   "cell_type": "code",
   "execution_count": 108,
   "metadata": {},
   "outputs": [
    {
     "data": {
      "text/plain": [
       "Text(0.5, 1.0, \"Distribution des classes du dataset d'apprentissage\")"
      ]
     },
     "execution_count": 108,
     "metadata": {},
     "output_type": "execute_result"
    },
    {
     "data": {
      "image/png": "[encoded data removed]",
      "text/plain": [
       "<Figure size 360x360 with 1 Axes>"
      ]
     },
     "metadata": {
      "needs_background": "light"
     },
     "output_type": "display_data"
    }
   ],
   "source": [
    "target, freq = np.unique(y_test_under_OCSVM['Class'], return_counts=True)\n",
    "plt.figure(figsize=(5,5))\n",
    "plt.ylabel('Fréquence', fontsize=10)\n",
    "plt.xlabel('Classe', fontsize=10)\n",
    "sns.barplot(target, freq)\n",
    "plt.title('Distribution des classes du dataset d\\'apprentissage')"
   ]
  },
  {
   "cell_type": "code",
   "execution_count": 109,
   "metadata": {},
   "outputs": [
    {
     "data": {
      "text/plain": [
       "Text(0.5, 1.0, 'Distribution des classes du dataset de test')"
      ]
     },
     "execution_count": 109,
     "metadata": {},
     "output_type": "execute_result"
    },
    {
     "data": {
      "image/png": "[encoded data removed]",
      "text/plain": [
       "<Figure size 360x360 with 1 Axes>"
      ]
     },
     "metadata": {
      "needs_background": "light"
     },
     "output_type": "display_data"
    }
   ],
   "source": [
    "target, freq = np.unique(y_train_under_OCSVM['Class'], return_counts=True)\n",
    "plt.figure(figsize=(5,5))\n",
    "plt.ylabel('Fréquence', fontsize=10)\n",
    "plt.xlabel('Classe', fontsize=10)\n",
    "sns.barplot(target, freq)\n",
    "plt.title('Distribution des classes du dataset de test')"
   ]
  },
  {
   "cell_type": "code",
   "execution_count": 110,
   "metadata": {},
   "outputs": [],
   "source": [
    "y_train_under_OCSVM.loc[y_train_under_OCSVM['Class'] == 1, \"Class\"] = -1\n",
    "y_train_under_OCSVM.loc[y_train_under_OCSVM['Class'] == 0, \"Class\"] = 1\n",
    "\n",
    "y_test_under_OCSVM.loc[y_test_under_OCSVM['Class'] == 1, \"Class\"] = -1\n",
    "y_test_under_OCSVM.loc[y_test_under_OCSVM['Class'] == 0, \"Class\"] = 1"
   ]
  },
  {
   "cell_type": "code",
   "execution_count": 111,
   "metadata": {},
   "outputs": [
    {
     "name": "stdout",
     "output_type": "stream",
     "text": [
      "[LibSVM][LibSVM][LibSVM][LibSVM][LibSVM]"
     ]
    },
    {
     "name": "stderr",
     "output_type": "stream",
     "text": [
      "/home/G20980/back_grid/notebooks/venv_grid/lib/python3.6/site-packages/sklearn/ensemble/_bagging.py:638: UserWarning: Some inputs do not have OOB scores. This probably means too few estimators were used to compute any reliable oob estimates.\n",
      "  warn(\"Some inputs do not have OOB scores. \"\n",
      "/home/G20980/back_grid/notebooks/venv_grid/lib/python3.6/site-packages/sklearn/ensemble/_bagging.py:643: RuntimeWarning: invalid value encountered in true_divide\n",
      "  predictions.sum(axis=1)[:, np.newaxis])\n"
     ]
    },
    {
     "data": {
      "text/plain": [
       "BaggingClassifier(base_estimator=OneClassSVM(verbose=True), n_estimators=5,\n",
       "                  oob_score=True, random_state=90)"
      ]
     },
     "execution_count": 111,
     "metadata": {},
     "output_type": "execute_result"
    }
   ],
   "source": [
    "OSVM = BaggingClassifier(OneClassSVM(verbose=True), n_estimators = 5, oob_score = True, random_state = 90)\n",
    "OSVM.fit(X_train_under_OCSVM, y_train_under_OCSVM.values.ravel())"
   ]
  },
  {
   "cell_type": "code",
   "execution_count": 112,
   "metadata": {},
   "outputs": [],
   "source": [
    "predicted = OSVM.predict(X_test)"
   ]
  },
  {
   "cell_type": "code",
   "execution_count": 113,
   "metadata": {
    "scrolled": true
   },
   "outputs": [
    {
     "name": "stdout",
     "output_type": "stream",
     "text": [
      "0.4983230657887769\n"
     ]
    },
    {
     "data": {
      "image/png": "[encoded data removed]",
      "text/plain": [
       "<Figure size 1080x720 with 2 Axes>"
      ]
     },
     "metadata": {
      "needs_background": "light"
     },
     "output_type": "display_data"
    }
   ],
   "source": [
    "score = accuracy_score(y_test_under_OCSVM, predicted)\n",
    "print(score)\n",
    "conf_mat = confusion_matrix(y_test_under_OCSVM, predicted)\n",
    "labels = ['-1','1']\n",
    "fig,ax = plt.subplots(figsize=(15,10))\n",
    "sns.heatmap(conf_mat, annot=True, cmap=\"Set3\", fmt=\"d\", xticklabels = labels, yticklabels = labels)\n",
    "plt.ylabel('Vraie valeur')\n",
    "plt.xlabel('Predite')\n",
    "plt.title('Matrice de confusion')\n",
    "plt.show()"
   ]
  },
  {
   "cell_type": "code",
   "execution_count": 114,
   "metadata": {},
   "outputs": [],
   "source": [
    "OSVM_FP3=conf_mat[1][0]/sum(conf_mat[1])*100\n",
    "OSVM_FN3=conf_mat[0][1]/sum(conf_mat[0])*100"
   ]
  },
  {
   "cell_type": "markdown",
   "metadata": {},
   "source": [
    "### 1.5 Random Forest"
   ]
  },
  {
   "cell_type": "code",
   "execution_count": 119,
   "metadata": {},
   "outputs": [],
   "source": [
    "clf=RandomForestClassifier()\n",
    "clf.fit(X_train, y_train.values.ravel())\n",
    "predicted = clf.predict(X_test)\n",
    "score = accuracy_score(y_test, predicted)"
   ]
  },
  {
   "cell_type": "code",
   "execution_count": 120,
   "metadata": {},
   "outputs": [
    {
     "data": {
      "text/plain": [
       "0.9999470441828034"
      ]
     },
     "execution_count": 120,
     "metadata": {},
     "output_type": "execute_result"
    }
   ],
   "source": [
    "score"
   ]
  },
  {
   "cell_type": "code",
   "execution_count": 121,
   "metadata": {},
   "outputs": [
    {
     "data": {
      "image/png": "[encoded data removed]",
      "text/plain": [
       "<Figure size 1080x720 with 2 Axes>"
      ]
     },
     "metadata": {
      "needs_background": "light"
     },
     "output_type": "display_data"
    }
   ],
   "source": [
    "conf_mat = confusion_matrix(y_test, predicted)\n",
    "labels = ['0','1']\n",
    "fig,ax = plt.subplots(figsize=(15,10))\n",
    "sns.heatmap(conf_mat, annot=True, cmap=\"Set3\", fmt=\"d\", xticklabels = labels, yticklabels = labels)\n",
    "plt.ylabel('Vraie valeur')\n",
    "plt.xlabel('Predite')\n",
    "plt.title('Matrice de confusion')\n",
    "plt.show()"
   ]
  },
  {
   "cell_type": "code",
   "execution_count": 122,
   "metadata": {},
   "outputs": [],
   "source": [
    "RF_FN3=conf_mat[1][0]/sum(conf_mat[1])*100\n",
    "RF_FP3=conf_mat[0][1]/sum(conf_mat[0])*100"
   ]
  },
  {
   "cell_type": "markdown",
   "metadata": {},
   "source": [
    "### 1.6 ExtraTrees Classifier"
   ]
  },
  {
   "cell_type": "code",
   "execution_count": 123,
   "metadata": {},
   "outputs": [],
   "source": [
    "clf = ExtraTreesClassifier()\n",
    "clf.fit(X_train, y_train.values.ravel())\n",
    "predicted = clf.predict(X_test)\n",
    "score = accuracy_score(y_test, predicted)"
   ]
  },
  {
   "cell_type": "code",
   "execution_count": 124,
   "metadata": {},
   "outputs": [
    {
     "data": {
      "text/plain": [
       "0.9999382182132708"
      ]
     },
     "execution_count": 124,
     "metadata": {},
     "output_type": "execute_result"
    }
   ],
   "source": [
    "score"
   ]
  },
  {
   "cell_type": "code",
   "execution_count": 125,
   "metadata": {},
   "outputs": [
    {
     "data": {
      "image/png": "[encoded data removed]",
      "text/plain": [
       "<Figure size 1080x720 with 2 Axes>"
      ]
     },
     "metadata": {
      "needs_background": "light"
     },
     "output_type": "display_data"
    }
   ],
   "source": [
    "conf_mat = confusion_matrix(y_test, predicted)\n",
    "labels = ['0','1']\n",
    "fig,ax = plt.subplots(figsize=(15,10))\n",
    "sns.heatmap(conf_mat, annot=True, cmap=\"Set3\", fmt=\"d\", xticklabels = labels, yticklabels = labels)\n",
    "plt.ylabel('Vraie valeur')\n",
    "plt.xlabel('Predite')\n",
    "plt.title('Matrice de confusion')\n",
    "plt.show()"
   ]
  },
  {
   "cell_type": "code",
   "execution_count": 126,
   "metadata": {},
   "outputs": [],
   "source": [
    "ET_FN3=conf_mat[1][0]/sum(conf_mat[1])*100\n",
    "ET_FP3=conf_mat[0][1]/sum(conf_mat[0])*100"
   ]
  },
  {
   "cell_type": "markdown",
   "metadata": {},
   "source": [
    "# 2 Boosting"
   ]
  },
  {
   "cell_type": "markdown",
   "metadata": {},
   "source": [
    "## 2.1 AdaBoostClassifier"
   ]
  },
  {
   "cell_type": "code",
   "execution_count": 127,
   "metadata": {},
   "outputs": [],
   "source": [
    "clf = AdaBoostClassifier()\n",
    "clf.fit(X_train, y_train.values.ravel())\n",
    "predicted = clf.predict(X_test)\n",
    "score = accuracy_score(y_test, predicted)"
   ]
  },
  {
   "cell_type": "code",
   "execution_count": 128,
   "metadata": {},
   "outputs": [
    {
     "data": {
      "text/plain": [
       "0.9641930416056204"
      ]
     },
     "execution_count": 128,
     "metadata": {},
     "output_type": "execute_result"
    }
   ],
   "source": [
    "score"
   ]
  },
  {
   "cell_type": "code",
   "execution_count": 129,
   "metadata": {},
   "outputs": [
    {
     "data": {
      "image/png": "[encoded data removed]",
      "text/plain": [
       "<Figure size 1080x720 with 2 Axes>"
      ]
     },
     "metadata": {
      "needs_background": "light"
     },
     "output_type": "display_data"
    }
   ],
   "source": [
    "conf_mat = confusion_matrix(y_test, predicted)\n",
    "labels = ['0','1']\n",
    "fig,ax = plt.subplots(figsize=(15,10))\n",
    "sns.heatmap(conf_mat, annot=True, cmap=\"Set3\", fmt=\"d\", xticklabels = labels, yticklabels = labels)\n",
    "plt.ylabel('Vraie valeur')\n",
    "plt.xlabel('Predite')\n",
    "plt.title('Matrice de confusion')\n",
    "plt.show()"
   ]
  },
  {
   "cell_type": "code",
   "execution_count": 130,
   "metadata": {},
   "outputs": [],
   "source": [
    "AB_FN3=conf_mat[1][0]/sum(conf_mat[1])*100\n",
    "AB_FP3=conf_mat[0][1]/sum(conf_mat[0])*100"
   ]
  },
  {
   "cell_type": "markdown",
   "metadata": {},
   "source": [
    "## 2.2 GradientBoostingClassifier"
   ]
  },
  {
   "cell_type": "code",
   "execution_count": 131,
   "metadata": {},
   "outputs": [],
   "source": [
    "clf = GradientBoostingClassifier()\n",
    "clf.fit(X_train, y_train.values.ravel())\n",
    "predicted = clf.predict(X_test)\n",
    "score = accuracy_score(y_test, predicted)"
   ]
  },
  {
   "cell_type": "code",
   "execution_count": 132,
   "metadata": {},
   "outputs": [
    {
     "data": {
      "text/plain": [
       "0.9946514624631516"
      ]
     },
     "execution_count": 132,
     "metadata": {},
     "output_type": "execute_result"
    }
   ],
   "source": [
    "score"
   ]
  },
  {
   "cell_type": "code",
   "execution_count": 133,
   "metadata": {},
   "outputs": [
    {
     "data": {
      "image/png": "[encoded data removed]",
      "text/plain": [
       "<Figure size 1080x720 with 2 Axes>"
      ]
     },
     "metadata": {
      "needs_background": "light"
     },
     "output_type": "display_data"
    }
   ],
   "source": [
    "conf_mat = confusion_matrix(y_test, predicted)\n",
    "labels = ['0','1']\n",
    "fig,ax = plt.subplots(figsize=(15,10))\n",
    "sns.heatmap(conf_mat, annot=True, cmap=\"Set3\", fmt=\"d\", xticklabels = labels, yticklabels = labels)\n",
    "plt.ylabel('Vraie valeur')\n",
    "plt.xlabel('Predite')\n",
    "plt.title('Matrice de confusion')\n",
    "plt.show()"
   ]
  },
  {
   "cell_type": "code",
   "execution_count": 134,
   "metadata": {},
   "outputs": [],
   "source": [
    "GB_FN3=conf_mat[1][0]/sum(conf_mat[1])*100\n",
    "GB_FP3=conf_mat[0][1]/sum(conf_mat[0])*100"
   ]
  },
  {
   "cell_type": "code",
   "execution_count": 135,
   "metadata": {},
   "outputs": [
    {
     "data": {
      "text/plain": [
       "array([], dtype=int64)"
      ]
     },
     "execution_count": 135,
     "metadata": {},
     "output_type": "execute_result"
    }
   ],
   "source": [
    "np.arange(10,2)"
   ]
  },
  {
   "cell_type": "markdown",
   "metadata": {},
   "source": [
    "## Comparatif"
   ]
  },
  {
   "cell_type": "code",
   "execution_count": 136,
   "metadata": {},
   "outputs": [
    {
     "data": {
      "text/plain": [
       "[Text(0, 0, 'Bagging'),\n",
       " Text(1, 0, 'RandomForest  '),\n",
       " Text(2, 0, 'Extra Trees'),\n",
       " Text(3, 0, 'AdaBoost  '),\n",
       " Text(4, 0, 'GradientBoosting'),\n",
       " Text(5, 0, 'RegressionLogistic'),\n",
       " Text(6, 0, 'Gaussian Naïve Bayes'),\n",
       " Text(7, 0, 'OneClass SVM')]"
      ]
     },
     "execution_count": 136,
     "metadata": {},
     "output_type": "execute_result"
    },
    {
     "data": {
      "image/png": "[encoded data removed]",
      "text/plain": [
       "<Figure size 1440x360 with 1 Axes>"
      ]
     },
     "metadata": {
      "needs_background": "light"
     },
     "output_type": "display_data"
    }
   ],
   "source": [
    "modèles = ['Bagging','RandomForest  ','Extra Trees','AdaBoost  ','GradientBoosting','RegressionLogistic', \"Gaussian Naïve Bayes\",'OneClass SVM']\n",
    "FN = [Bgcla_FN3,RF_FN3,ET_FN3,AB_FN3,GB_FN3,RL_FN3,GNB_FN3,OSVM_FN3]\n",
    "FP = [Bgcla_FP3,RF_FP3,ET_FP3,AB_FP3,GB_FP3,RL_FP3,GNB_FP3,OSVM_FP3]\n",
    "# Position sur l'axe des x pour chaque étiquette\n",
    "position = np.arange(len(modèles))\n",
    "# Largeur des barres\n",
    "largeur = .35\n",
    "\n",
    "# Création de la figure et d'un set de sous-graphiques\n",
    "fig, ax = plt.subplots(figsize=(20, 5))\n",
    "r1 = ax.bar(position - largeur/2, FN, largeur)\n",
    "r2 = ax.bar(position + largeur/2, FP, largeur)\n",
    "\n",
    "\n",
    "\n",
    "# Modification des marques sur l'axe des x et de leurs étiquettes\n",
    "ax.set_xticks(position)\n",
    "ax.set_xticklabels(modèles)"
   ]
  },
  {
   "cell_type": "code",
   "execution_count": 138,
   "metadata": {},
   "outputs": [
    {
     "data": {
      "text/plain": [
       "[Text(0, 0, 'Bagging'), Text(1, 0, 'RandomForest '), Text(2, 0, 'Extra Trees')]"
      ]
     },
     "execution_count": 138,
     "metadata": {},
     "output_type": "execute_result"
    },
    {
     "data": {
      "image/png": "[encoded data removed]",
      "text/plain": [
       "<Figure size 1080x576 with 1 Axes>"
      ]
     },
     "metadata": {
      "needs_background": "light"
     },
     "output_type": "display_data"
    }
   ],
   "source": [
    "modèles = ['Bagging','RandomForest ','Extra Trees']\n",
    "FN = [Bgcla_FN3,RF_FN3,ET_FN3]\n",
    "FP = [Bgcla_FP3,RF_FP3,ET_FP3]\n",
    "# Position sur l'axe des x pour chaque étiquette\n",
    "position = np.arange(len(modèles))\n",
    "# Largeur des barres\n",
    "largeur = .35\n",
    "\n",
    "# Création de la figure et d'un set de sous-graphiques\n",
    "fig, ax = plt.subplots(figsize=(15,8))\n",
    "r1 = ax.bar(position - largeur/2, FN, largeur)\n",
    "r2 = ax.bar(position + largeur/2, FP, largeur)\n",
    "\n",
    "# Modification des marques sur l'axe des x et de leurs étiquettes\n",
    "ax.set_xticks(position)\n",
    "ax.set_xticklabels(modèles)"
   ]
  },
  {
   "cell_type": "markdown",
   "metadata": {},
   "source": [
    "## Test de modèles adaptés pour les données déséquilibrées"
   ]
  },
  {
   "cell_type": "code",
   "execution_count": 139,
   "metadata": {},
   "outputs": [],
   "source": [
    "X_train, X_test, y_train, y_test = train_test_split(train, y, test_size=0.2, random_state=0)"
   ]
  },
  {
   "cell_type": "code",
   "execution_count": 140,
   "metadata": {},
   "outputs": [
    {
     "name": "stdout",
     "output_type": "stream",
     "text": [
      "0.9724738307545906\n"
     ]
    },
    {
     "data": {
      "image/png": "[encoded data removed]",
      "text/plain": [
       "<Figure size 1080x720 with 2 Axes>"
      ]
     },
     "metadata": {
      "needs_background": "light"
     },
     "output_type": "display_data"
    }
   ],
   "source": [
    "from imblearn.ensemble import BalancedRandomForestClassifier\n",
    "clf = BalancedRandomForestClassifier()\n",
    "clf.fit(X_train, y_train.values.ravel())\n",
    "predicted = clf.predict(X_test)\n",
    "score = accuracy_score(y_test, predicted)\n",
    "print(score)\n",
    "conf_mat = confusion_matrix(y_test, predicted)\n",
    "labels = ['0','1']\n",
    "fig,ax = plt.subplots(figsize=(15,10))\n",
    "sns.heatmap(conf_mat, annot=True, cmap=\"Set3\", fmt=\"d\", xticklabels = labels, yticklabels = labels)\n",
    "plt.ylabel('Vraie valeur')\n",
    "plt.xlabel('Predite')\n",
    "plt.title('Matrice de confusion')\n",
    "plt.show()"
   ]
  },
  {
   "cell_type": "code",
   "execution_count": 141,
   "metadata": {},
   "outputs": [
    {
     "name": "stdout",
     "output_type": "stream",
     "text": [
      "0.9765974694251577\n"
     ]
    },
    {
     "data": {
      "image/png": "[encoded data removed]",
      "text/plain": [
       "<Figure size 1080x720 with 2 Axes>"
      ]
     },
     "metadata": {
      "needs_background": "light"
     },
     "output_type": "display_data"
    }
   ],
   "source": [
    "from imblearn.ensemble import BalancedBaggingClassifier \n",
    "clf = BalancedBaggingClassifier()\n",
    "clf.fit(X_train, y_train.values.ravel())\n",
    "predicted = clf.predict(X_test)\n",
    "score = accuracy_score(y_test, predicted)\n",
    "print(score)\n",
    "conf_mat = confusion_matrix(y_test, predicted)\n",
    "labels = ['0','1']\n",
    "fig,ax = plt.subplots(figsize=(15,10))\n",
    "sns.heatmap(conf_mat, annot=True, cmap=\"Set3\", fmt=\"d\", xticklabels = labels, yticklabels = labels)\n",
    "plt.ylabel('Vraie valeur')\n",
    "plt.xlabel('Predite')\n",
    "plt.title('Matrice de confusion')\n",
    "plt.show()"
   ]
  },
  {
   "cell_type": "code",
   "execution_count": 142,
   "metadata": {},
   "outputs": [
    {
     "name": "stdout",
     "output_type": "stream",
     "text": [
      "0.9532301836252776\n"
     ]
    },
    {
     "data": {
      "image/png": "[encoded data removed]",
      "text/plain": [
       "<Figure size 1080x720 with 2 Axes>"
      ]
     },
     "metadata": {
      "needs_background": "light"
     },
     "output_type": "display_data"
    }
   ],
   "source": [
    "from imblearn.ensemble import RUSBoostClassifier\n",
    "clf = RUSBoostClassifier()\n",
    "clf.fit(X_train, y_train.values.ravel())\n",
    "predicted = clf.predict(X_test)\n",
    "score = accuracy_score(y_test, predicted)\n",
    "print(score)\n",
    "conf_mat = confusion_matrix(y_test, predicted)\n",
    "labels = ['0','1']\n",
    "fig,ax = plt.subplots(figsize=(15,10))\n",
    "sns.heatmap(conf_mat, annot=True, cmap=\"Set3\", fmt=\"d\", xticklabels = labels, yticklabels = labels)\n",
    "plt.ylabel('Vraie valeur')\n",
    "plt.xlabel('Predite')\n",
    "plt.title('Matrice de confusion')\n",
    "plt.show()"
   ]
  },
  {
   "cell_type": "code",
   "execution_count": 143,
   "metadata": {},
   "outputs": [
    {
     "name": "stdout",
     "output_type": "stream",
     "text": [
      "0.9598033341557114\n"
     ]
    },
    {
     "data": {
      "image/png": "[encoded data removed]",
      "text/plain": [
       "<Figure size 1080x720 with 2 Axes>"
      ]
     },
     "metadata": {
      "needs_background": "light"
     },
     "output_type": "display_data"
    }
   ],
   "source": [
    "from imblearn.ensemble import EasyEnsembleClassifier\n",
    "clf = EasyEnsembleClassifier()\n",
    "clf.fit(X_train, y_train.values.ravel())\n",
    "predicted = clf.predict(X_test)\n",
    "score = accuracy_score(y_test, predicted)\n",
    "print(score)\n",
    "conf_mat = confusion_matrix(y_test, predicted)\n",
    "labels = ['0','1']\n",
    "fig,ax = plt.subplots(figsize=(15,10))\n",
    "sns.heatmap(conf_mat, annot=True, cmap=\"Set3\", fmt=\"d\", xticklabels = labels, yticklabels = labels)\n",
    "plt.ylabel('Vraie valeur')\n",
    "plt.xlabel('Predite')\n",
    "plt.title('Matrice de confusion')\n",
    "plt.show()"
   ]
  }
 ],
 "metadata": {
  "kernelspec": {
   "display_name": "venv_grid",
   "language": "python",
   "name": "venv_grid"
  },
  "language_info": {
   "codemirror_mode": {
    "name": "ipython",
    "version": 3
   },
   "file_extension": ".py",
   "mimetype": "text/x-python",
   "name": "python",
   "nbconvert_exporter": "python",
   "pygments_lexer": "ipython3",
   "version": "3.6.8"
  }
 },
 "nbformat": 4,
 "nbformat_minor": 4
}
